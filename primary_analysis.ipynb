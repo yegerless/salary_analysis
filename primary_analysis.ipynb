{
 "cells": [
  {
   "cell_type": "code",
   "execution_count": 1,
   "metadata": {},
   "outputs": [],
   "source": [
    "import pandas as pd\n",
    "import plotly.graph_objects as go\n",
    "from plotly.subplots import make_subplots"
   ]
  },
  {
   "cell_type": "code",
   "execution_count": 2,
   "metadata": {},
   "outputs": [
    {
     "data": {
      "text/html": [
       "<div>\n",
       "<style scoped>\n",
       "    .dataframe tbody tr th:only-of-type {\n",
       "        vertical-align: middle;\n",
       "    }\n",
       "\n",
       "    .dataframe tbody tr th {\n",
       "        vertical-align: top;\n",
       "    }\n",
       "\n",
       "    .dataframe thead th {\n",
       "        text-align: right;\n",
       "    }\n",
       "</style>\n",
       "<table border=\"1\" class=\"dataframe\">\n",
       "  <thead>\n",
       "    <tr style=\"text-align: right;\">\n",
       "      <th></th>\n",
       "      <th>Финансовая деятельность</th>\n",
       "      <th>Здравоохранение и социальные услуги</th>\n",
       "      <th>Гос. управление, военные и социальное страхование</th>\n",
       "    </tr>\n",
       "  </thead>\n",
       "  <tbody>\n",
       "    <tr>\n",
       "      <th>2000</th>\n",
       "      <td>5232.2</td>\n",
       "      <td>1333.3</td>\n",
       "      <td>2712.1</td>\n",
       "    </tr>\n",
       "    <tr>\n",
       "      <th>2001</th>\n",
       "      <td>8885.2</td>\n",
       "      <td>1959.9</td>\n",
       "      <td>3754.9</td>\n",
       "    </tr>\n",
       "    <tr>\n",
       "      <th>2002</th>\n",
       "      <td>13245.9</td>\n",
       "      <td>3141.3</td>\n",
       "      <td>5200.4</td>\n",
       "    </tr>\n",
       "    <tr>\n",
       "      <th>2003</th>\n",
       "      <td>15561.2</td>\n",
       "      <td>3662.6</td>\n",
       "      <td>6913.8</td>\n",
       "    </tr>\n",
       "    <tr>\n",
       "      <th>2004</th>\n",
       "      <td>17383.8</td>\n",
       "      <td>4612.0</td>\n",
       "      <td>7898.6</td>\n",
       "    </tr>\n",
       "    <tr>\n",
       "      <th>2005</th>\n",
       "      <td>22463.5</td>\n",
       "      <td>5905.6</td>\n",
       "      <td>10958.5</td>\n",
       "    </tr>\n",
       "    <tr>\n",
       "      <th>2006</th>\n",
       "      <td>27885.5</td>\n",
       "      <td>8059.9</td>\n",
       "      <td>13477.3</td>\n",
       "    </tr>\n",
       "    <tr>\n",
       "      <th>2007</th>\n",
       "      <td>34879.8</td>\n",
       "      <td>10036.6</td>\n",
       "      <td>16896.3</td>\n",
       "    </tr>\n",
       "    <tr>\n",
       "      <th>2008</th>\n",
       "      <td>41871.8</td>\n",
       "      <td>13048.6</td>\n",
       "      <td>21344.1</td>\n",
       "    </tr>\n",
       "    <tr>\n",
       "      <th>2009</th>\n",
       "      <td>42372.9</td>\n",
       "      <td>14819.5</td>\n",
       "      <td>23960.0</td>\n",
       "    </tr>\n",
       "    <tr>\n",
       "      <th>2010</th>\n",
       "      <td>50120.0</td>\n",
       "      <td>15723.8</td>\n",
       "      <td>25120.8</td>\n",
       "    </tr>\n",
       "    <tr>\n",
       "      <th>2011</th>\n",
       "      <td>55788.9</td>\n",
       "      <td>17544.5</td>\n",
       "      <td>27755.5</td>\n",
       "    </tr>\n",
       "    <tr>\n",
       "      <th>2012</th>\n",
       "      <td>58999.2</td>\n",
       "      <td>20640.7</td>\n",
       "      <td>35701.4</td>\n",
       "    </tr>\n",
       "    <tr>\n",
       "      <th>2013</th>\n",
       "      <td>63333.0</td>\n",
       "      <td>24438.6</td>\n",
       "      <td>40448.7</td>\n",
       "    </tr>\n",
       "    <tr>\n",
       "      <th>2014</th>\n",
       "      <td>68565.0</td>\n",
       "      <td>27068.0</td>\n",
       "      <td>42659.0</td>\n",
       "    </tr>\n",
       "    <tr>\n",
       "      <th>2015</th>\n",
       "      <td>70088.0</td>\n",
       "      <td>28179.0</td>\n",
       "      <td>41916.0</td>\n",
       "    </tr>\n",
       "    <tr>\n",
       "      <th>2016</th>\n",
       "      <td>80289.0</td>\n",
       "      <td>29742.0</td>\n",
       "      <td>43611.0</td>\n",
       "    </tr>\n",
       "    <tr>\n",
       "      <th>2017</th>\n",
       "      <td>84904.0</td>\n",
       "      <td>31980.3</td>\n",
       "      <td>43499.7</td>\n",
       "    </tr>\n",
       "    <tr>\n",
       "      <th>2018</th>\n",
       "      <td>91070.0</td>\n",
       "      <td>40027.0</td>\n",
       "      <td>47803.0</td>\n",
       "    </tr>\n",
       "    <tr>\n",
       "      <th>2019</th>\n",
       "      <td>103667.8</td>\n",
       "      <td>43122.1</td>\n",
       "      <td>50990.5</td>\n",
       "    </tr>\n",
       "    <tr>\n",
       "      <th>2020</th>\n",
       "      <td>112680.0</td>\n",
       "      <td>49532.0</td>\n",
       "      <td>54496.0</td>\n",
       "    </tr>\n",
       "    <tr>\n",
       "      <th>2021</th>\n",
       "      <td>130223.3</td>\n",
       "      <td>50690.1</td>\n",
       "      <td>58620.3</td>\n",
       "    </tr>\n",
       "    <tr>\n",
       "      <th>2022</th>\n",
       "      <td>146637.1</td>\n",
       "      <td>55419.6</td>\n",
       "      <td>63505.2</td>\n",
       "    </tr>\n",
       "    <tr>\n",
       "      <th>2023</th>\n",
       "      <td>169105.7</td>\n",
       "      <td>61485.5</td>\n",
       "      <td>73860.9</td>\n",
       "    </tr>\n",
       "  </tbody>\n",
       "</table>\n",
       "</div>"
      ],
      "text/plain": [
       "      Финансовая деятельность  Здравоохранение и социальные услуги  \\\n",
       "2000                   5232.2                               1333.3   \n",
       "2001                   8885.2                               1959.9   \n",
       "2002                  13245.9                               3141.3   \n",
       "2003                  15561.2                               3662.6   \n",
       "2004                  17383.8                               4612.0   \n",
       "2005                  22463.5                               5905.6   \n",
       "2006                  27885.5                               8059.9   \n",
       "2007                  34879.8                              10036.6   \n",
       "2008                  41871.8                              13048.6   \n",
       "2009                  42372.9                              14819.5   \n",
       "2010                  50120.0                              15723.8   \n",
       "2011                  55788.9                              17544.5   \n",
       "2012                  58999.2                              20640.7   \n",
       "2013                  63333.0                              24438.6   \n",
       "2014                  68565.0                              27068.0   \n",
       "2015                  70088.0                              28179.0   \n",
       "2016                  80289.0                              29742.0   \n",
       "2017                  84904.0                              31980.3   \n",
       "2018                  91070.0                              40027.0   \n",
       "2019                 103667.8                              43122.1   \n",
       "2020                 112680.0                              49532.0   \n",
       "2021                 130223.3                              50690.1   \n",
       "2022                 146637.1                              55419.6   \n",
       "2023                 169105.7                              61485.5   \n",
       "\n",
       "      Гос. управление, военные и социальное страхование  \n",
       "2000                                             2712.1  \n",
       "2001                                             3754.9  \n",
       "2002                                             5200.4  \n",
       "2003                                             6913.8  \n",
       "2004                                             7898.6  \n",
       "2005                                            10958.5  \n",
       "2006                                            13477.3  \n",
       "2007                                            16896.3  \n",
       "2008                                            21344.1  \n",
       "2009                                            23960.0  \n",
       "2010                                            25120.8  \n",
       "2011                                            27755.5  \n",
       "2012                                            35701.4  \n",
       "2013                                            40448.7  \n",
       "2014                                            42659.0  \n",
       "2015                                            41916.0  \n",
       "2016                                            43611.0  \n",
       "2017                                            43499.7  \n",
       "2018                                            47803.0  \n",
       "2019                                            50990.5  \n",
       "2020                                            54496.0  \n",
       "2021                                            58620.3  \n",
       "2022                                            63505.2  \n",
       "2023                                            73860.9  "
      ]
     },
     "execution_count": 2,
     "metadata": {},
     "output_type": "execute_result"
    }
   ],
   "source": [
    "# Загрузка первой части данных о средней заработной плате в РФ (данные с 2000 по 2016 года)\n",
    "\n",
    "df_salary_1 = pd.read_excel(r'./data/salary_data_2000_2023.xlsx', sheet_name=1, \n",
    "                            header=2, index_col=0, nrows=35).loc[['Финансовая деятельность', 'Здравоохранение и предоставление социальных услуг',\n",
    "                                                                  'Государственное управление и обеспечение военной безопасности; социальное страхование']]\n",
    "df_salary_1.rename(inplace=True, \n",
    "                   index={'Здравоохранение и предоставление социальных услуг': 'Здравоохранение и социальные услуги', \n",
    "                          'Государственное управление и обеспечение военной безопасности; социальное страхование': \n",
    "                          'Гос. управление, военные и социальное страхование'})\n",
    "\n",
    "# Загрузка второй части данных о средней заработной плате в РФ (2016-2023 года)\n",
    "\n",
    "df_salary_2 = pd.read_excel(r'./data/salary_data_2000_2023.xlsx', sheet_name=0, header=4, index_col=0, names=[i for i in range(2017, 2024)], \n",
    "                            nrows=53).loc[['деятельность финансовая и страховая', \n",
    "                                           'деятельность в области здравоохранения и социальных услуг', \n",
    "                                           'государственное управление и обеспечение военной безопасности; социальное обеспечение']]\n",
    "df_salary_2.rename(inplace=True, \n",
    "                   index={'деятельность финансовая и страховая': 'Финансовая деятельность', \n",
    "                          'деятельность в области здравоохранения и социальных услуг': 'Здравоохранение и социальные услуги', \n",
    "                          'государственное управление и обеспечение военной безопасности; социальное обеспечение': \n",
    "                          'Гос. управление, военные и социальное страхование'})\n",
    "\n",
    "# Соединение данных о средней заработной плате в один датафрейм\n",
    "\n",
    "df_salary = df_salary_1.merge(df_salary_2, how='inner', left_index=True, right_index=True, validate='one_to_one').T\n",
    "\n",
    "df_salary"
   ]
  },
  {
   "cell_type": "code",
   "execution_count": 3,
   "metadata": {},
   "outputs": [
    {
     "data": {
      "text/html": [
       "<div>\n",
       "<style scoped>\n",
       "    .dataframe tbody tr th:only-of-type {\n",
       "        vertical-align: middle;\n",
       "    }\n",
       "\n",
       "    .dataframe tbody tr th {\n",
       "        vertical-align: top;\n",
       "    }\n",
       "\n",
       "    .dataframe thead th {\n",
       "        text-align: right;\n",
       "    }\n",
       "</style>\n",
       "<table border=\"1\" class=\"dataframe\">\n",
       "  <thead>\n",
       "    <tr style=\"text-align: right;\">\n",
       "      <th></th>\n",
       "      <th>Всего</th>\n",
       "    </tr>\n",
       "    <tr>\n",
       "      <th>Год</th>\n",
       "      <th></th>\n",
       "    </tr>\n",
       "  </thead>\n",
       "  <tbody>\n",
       "    <tr>\n",
       "      <th>2000</th>\n",
       "      <td>20.20</td>\n",
       "    </tr>\n",
       "    <tr>\n",
       "      <th>2001</th>\n",
       "      <td>18.58</td>\n",
       "    </tr>\n",
       "    <tr>\n",
       "      <th>2002</th>\n",
       "      <td>15.06</td>\n",
       "    </tr>\n",
       "    <tr>\n",
       "      <th>2003</th>\n",
       "      <td>11.99</td>\n",
       "    </tr>\n",
       "    <tr>\n",
       "      <th>2004</th>\n",
       "      <td>11.74</td>\n",
       "    </tr>\n",
       "    <tr>\n",
       "      <th>2005</th>\n",
       "      <td>10.91</td>\n",
       "    </tr>\n",
       "    <tr>\n",
       "      <th>2006</th>\n",
       "      <td>9.00</td>\n",
       "    </tr>\n",
       "    <tr>\n",
       "      <th>2007</th>\n",
       "      <td>11.87</td>\n",
       "    </tr>\n",
       "    <tr>\n",
       "      <th>2008</th>\n",
       "      <td>13.28</td>\n",
       "    </tr>\n",
       "    <tr>\n",
       "      <th>2009</th>\n",
       "      <td>8.80</td>\n",
       "    </tr>\n",
       "    <tr>\n",
       "      <th>2010</th>\n",
       "      <td>8.78</td>\n",
       "    </tr>\n",
       "    <tr>\n",
       "      <th>2011</th>\n",
       "      <td>6.10</td>\n",
       "    </tr>\n",
       "    <tr>\n",
       "      <th>2012</th>\n",
       "      <td>6.58</td>\n",
       "    </tr>\n",
       "    <tr>\n",
       "      <th>2013</th>\n",
       "      <td>6.45</td>\n",
       "    </tr>\n",
       "    <tr>\n",
       "      <th>2014</th>\n",
       "      <td>11.36</td>\n",
       "    </tr>\n",
       "    <tr>\n",
       "      <th>2015</th>\n",
       "      <td>12.91</td>\n",
       "    </tr>\n",
       "    <tr>\n",
       "      <th>2016</th>\n",
       "      <td>5.38</td>\n",
       "    </tr>\n",
       "    <tr>\n",
       "      <th>2017</th>\n",
       "      <td>2.52</td>\n",
       "    </tr>\n",
       "    <tr>\n",
       "      <th>2018</th>\n",
       "      <td>4.27</td>\n",
       "    </tr>\n",
       "    <tr>\n",
       "      <th>2019</th>\n",
       "      <td>3.05</td>\n",
       "    </tr>\n",
       "    <tr>\n",
       "      <th>2020</th>\n",
       "      <td>4.91</td>\n",
       "    </tr>\n",
       "    <tr>\n",
       "      <th>2021</th>\n",
       "      <td>8.39</td>\n",
       "    </tr>\n",
       "    <tr>\n",
       "      <th>2022</th>\n",
       "      <td>11.92</td>\n",
       "    </tr>\n",
       "    <tr>\n",
       "      <th>2023</th>\n",
       "      <td>7.42</td>\n",
       "    </tr>\n",
       "  </tbody>\n",
       "</table>\n",
       "</div>"
      ],
      "text/plain": [
       "      Всего\n",
       "Год        \n",
       "2000  20.20\n",
       "2001  18.58\n",
       "2002  15.06\n",
       "2003  11.99\n",
       "2004  11.74\n",
       "2005  10.91\n",
       "2006   9.00\n",
       "2007  11.87\n",
       "2008  13.28\n",
       "2009   8.80\n",
       "2010   8.78\n",
       "2011   6.10\n",
       "2012   6.58\n",
       "2013   6.45\n",
       "2014  11.36\n",
       "2015  12.91\n",
       "2016   5.38\n",
       "2017   2.52\n",
       "2018   4.27\n",
       "2019   3.05\n",
       "2020   4.91\n",
       "2021   8.39\n",
       "2022  11.92\n",
       "2023   7.42"
      ]
     },
     "execution_count": 3,
     "metadata": {},
     "output_type": "execute_result"
    }
   ],
   "source": [
    "# Загрузка данных о годовой инфляции в РФ\n",
    "\n",
    "df_inflation = pd.read_excel(r'./data/inflation.xlsx', usecols=['Год', 'Всего'], index_col=0).loc[[i for i in range(2000, 2024)]]\n",
    "\n",
    "df_inflation"
   ]
  },
  {
   "cell_type": "code",
   "execution_count": 4,
   "metadata": {},
   "outputs": [
    {
     "data": {
      "application/vnd.plotly.v1+json": {
       "config": {
        "plotlyServerURL": "https://plot.ly"
       },
       "data": [
        {
         "line": {
          "color": "#269926"
         },
         "mode": "lines+markers",
         "name": "Финансовая деятельность",
         "type": "scatter",
         "x": [
          2000,
          2001,
          2002,
          2003,
          2004,
          2005,
          2006,
          2007,
          2008,
          2009,
          2010,
          2011,
          2012,
          2013,
          2014,
          2015,
          2016,
          2017,
          2018,
          2019,
          2020,
          2021,
          2022,
          2023
         ],
         "xaxis": "x",
         "y": [
          5232.2,
          8885.2,
          13245.9,
          15561.2,
          17383.8,
          22463.5,
          27885.5,
          34879.8,
          41871.8,
          42372.9,
          50120,
          55788.9,
          58999.2,
          63333,
          68565,
          70088,
          80289,
          84904,
          91070,
          103667.8,
          112680,
          130223.3,
          146637.1,
          169105.7
         ],
         "yaxis": "y"
        },
        {
         "line": {
          "color": "#466FD5"
         },
         "mode": "lines+markers",
         "name": "Здравоохранение и социальные услуги",
         "type": "scatter",
         "x": [
          2000,
          2001,
          2002,
          2003,
          2004,
          2005,
          2006,
          2007,
          2008,
          2009,
          2010,
          2011,
          2012,
          2013,
          2014,
          2015,
          2016,
          2017,
          2018,
          2019,
          2020,
          2021,
          2022,
          2023
         ],
         "xaxis": "x",
         "y": [
          1333.3,
          1959.9,
          3141.3,
          3662.6,
          4612,
          5905.6,
          8059.9,
          10036.6,
          13048.6,
          14819.5,
          15723.8,
          17544.5,
          20640.7,
          24438.6,
          27068,
          28179,
          29742,
          31980.3,
          40027,
          43122.1,
          49532,
          50690.1,
          55419.6,
          61485.5
         ],
         "yaxis": "y"
        },
        {
         "line": {
          "color": "#BFBE30"
         },
         "mode": "lines+markers",
         "name": "Гос. управление, военные и социальное страхование",
         "type": "scatter",
         "x": [
          2000,
          2001,
          2002,
          2003,
          2004,
          2005,
          2006,
          2007,
          2008,
          2009,
          2010,
          2011,
          2012,
          2013,
          2014,
          2015,
          2016,
          2017,
          2018,
          2019,
          2020,
          2021,
          2022,
          2023
         ],
         "xaxis": "x",
         "y": [
          2712.1,
          3754.9,
          5200.4,
          6913.8,
          7898.6,
          10958.5,
          13477.3,
          16896.3,
          21344.1,
          23960,
          25120.8,
          27755.5,
          35701.4,
          40448.7,
          42659,
          41916,
          43611,
          43499.7,
          47803,
          50990.5,
          54496,
          58620.3,
          63505.2,
          73860.9
         ],
         "yaxis": "y"
        },
        {
         "line": {
          "color": "#A60000"
         },
         "mode": "lines+markers",
         "name": "Годовая инфляция %",
         "type": "scatter",
         "x": [
          2000,
          2001,
          2002,
          2003,
          2004,
          2005,
          2006,
          2007,
          2008,
          2009,
          2010,
          2011,
          2012,
          2013,
          2014,
          2015,
          2016,
          2017,
          2018,
          2019,
          2020,
          2021,
          2022,
          2023
         ],
         "xaxis": "x",
         "y": [
          20.2,
          18.58,
          15.06,
          11.99,
          11.74,
          10.91,
          9,
          11.87,
          13.28,
          8.8,
          8.78,
          6.1,
          6.58,
          6.45,
          11.36,
          12.91,
          5.38,
          2.52,
          4.27,
          3.05,
          4.91,
          8.39,
          11.92,
          7.42
         ],
         "yaxis": "y2"
        }
       ],
       "layout": {
        "margin": {
         "b": 0,
         "l": 30,
         "r": 0,
         "t": 50
        },
        "plot_bgcolor": "white",
        "template": {
         "data": {
          "bar": [
           {
            "error_x": {
             "color": "#2a3f5f"
            },
            "error_y": {
             "color": "#2a3f5f"
            },
            "marker": {
             "line": {
              "color": "#E5ECF6",
              "width": 0.5
             },
             "pattern": {
              "fillmode": "overlay",
              "size": 10,
              "solidity": 0.2
             }
            },
            "type": "bar"
           }
          ],
          "barpolar": [
           {
            "marker": {
             "line": {
              "color": "#E5ECF6",
              "width": 0.5
             },
             "pattern": {
              "fillmode": "overlay",
              "size": 10,
              "solidity": 0.2
             }
            },
            "type": "barpolar"
           }
          ],
          "carpet": [
           {
            "aaxis": {
             "endlinecolor": "#2a3f5f",
             "gridcolor": "white",
             "linecolor": "white",
             "minorgridcolor": "white",
             "startlinecolor": "#2a3f5f"
            },
            "baxis": {
             "endlinecolor": "#2a3f5f",
             "gridcolor": "white",
             "linecolor": "white",
             "minorgridcolor": "white",
             "startlinecolor": "#2a3f5f"
            },
            "type": "carpet"
           }
          ],
          "choropleth": [
           {
            "colorbar": {
             "outlinewidth": 0,
             "ticks": ""
            },
            "type": "choropleth"
           }
          ],
          "contour": [
           {
            "colorbar": {
             "outlinewidth": 0,
             "ticks": ""
            },
            "colorscale": [
             [
              0,
              "#0d0887"
             ],
             [
              0.1111111111111111,
              "#46039f"
             ],
             [
              0.2222222222222222,
              "#7201a8"
             ],
             [
              0.3333333333333333,
              "#9c179e"
             ],
             [
              0.4444444444444444,
              "#bd3786"
             ],
             [
              0.5555555555555556,
              "#d8576b"
             ],
             [
              0.6666666666666666,
              "#ed7953"
             ],
             [
              0.7777777777777778,
              "#fb9f3a"
             ],
             [
              0.8888888888888888,
              "#fdca26"
             ],
             [
              1,
              "#f0f921"
             ]
            ],
            "type": "contour"
           }
          ],
          "contourcarpet": [
           {
            "colorbar": {
             "outlinewidth": 0,
             "ticks": ""
            },
            "type": "contourcarpet"
           }
          ],
          "heatmap": [
           {
            "colorbar": {
             "outlinewidth": 0,
             "ticks": ""
            },
            "colorscale": [
             [
              0,
              "#0d0887"
             ],
             [
              0.1111111111111111,
              "#46039f"
             ],
             [
              0.2222222222222222,
              "#7201a8"
             ],
             [
              0.3333333333333333,
              "#9c179e"
             ],
             [
              0.4444444444444444,
              "#bd3786"
             ],
             [
              0.5555555555555556,
              "#d8576b"
             ],
             [
              0.6666666666666666,
              "#ed7953"
             ],
             [
              0.7777777777777778,
              "#fb9f3a"
             ],
             [
              0.8888888888888888,
              "#fdca26"
             ],
             [
              1,
              "#f0f921"
             ]
            ],
            "type": "heatmap"
           }
          ],
          "heatmapgl": [
           {
            "colorbar": {
             "outlinewidth": 0,
             "ticks": ""
            },
            "colorscale": [
             [
              0,
              "#0d0887"
             ],
             [
              0.1111111111111111,
              "#46039f"
             ],
             [
              0.2222222222222222,
              "#7201a8"
             ],
             [
              0.3333333333333333,
              "#9c179e"
             ],
             [
              0.4444444444444444,
              "#bd3786"
             ],
             [
              0.5555555555555556,
              "#d8576b"
             ],
             [
              0.6666666666666666,
              "#ed7953"
             ],
             [
              0.7777777777777778,
              "#fb9f3a"
             ],
             [
              0.8888888888888888,
              "#fdca26"
             ],
             [
              1,
              "#f0f921"
             ]
            ],
            "type": "heatmapgl"
           }
          ],
          "histogram": [
           {
            "marker": {
             "pattern": {
              "fillmode": "overlay",
              "size": 10,
              "solidity": 0.2
             }
            },
            "type": "histogram"
           }
          ],
          "histogram2d": [
           {
            "colorbar": {
             "outlinewidth": 0,
             "ticks": ""
            },
            "colorscale": [
             [
              0,
              "#0d0887"
             ],
             [
              0.1111111111111111,
              "#46039f"
             ],
             [
              0.2222222222222222,
              "#7201a8"
             ],
             [
              0.3333333333333333,
              "#9c179e"
             ],
             [
              0.4444444444444444,
              "#bd3786"
             ],
             [
              0.5555555555555556,
              "#d8576b"
             ],
             [
              0.6666666666666666,
              "#ed7953"
             ],
             [
              0.7777777777777778,
              "#fb9f3a"
             ],
             [
              0.8888888888888888,
              "#fdca26"
             ],
             [
              1,
              "#f0f921"
             ]
            ],
            "type": "histogram2d"
           }
          ],
          "histogram2dcontour": [
           {
            "colorbar": {
             "outlinewidth": 0,
             "ticks": ""
            },
            "colorscale": [
             [
              0,
              "#0d0887"
             ],
             [
              0.1111111111111111,
              "#46039f"
             ],
             [
              0.2222222222222222,
              "#7201a8"
             ],
             [
              0.3333333333333333,
              "#9c179e"
             ],
             [
              0.4444444444444444,
              "#bd3786"
             ],
             [
              0.5555555555555556,
              "#d8576b"
             ],
             [
              0.6666666666666666,
              "#ed7953"
             ],
             [
              0.7777777777777778,
              "#fb9f3a"
             ],
             [
              0.8888888888888888,
              "#fdca26"
             ],
             [
              1,
              "#f0f921"
             ]
            ],
            "type": "histogram2dcontour"
           }
          ],
          "mesh3d": [
           {
            "colorbar": {
             "outlinewidth": 0,
             "ticks": ""
            },
            "type": "mesh3d"
           }
          ],
          "parcoords": [
           {
            "line": {
             "colorbar": {
              "outlinewidth": 0,
              "ticks": ""
             }
            },
            "type": "parcoords"
           }
          ],
          "pie": [
           {
            "automargin": true,
            "type": "pie"
           }
          ],
          "scatter": [
           {
            "fillpattern": {
             "fillmode": "overlay",
             "size": 10,
             "solidity": 0.2
            },
            "type": "scatter"
           }
          ],
          "scatter3d": [
           {
            "line": {
             "colorbar": {
              "outlinewidth": 0,
              "ticks": ""
             }
            },
            "marker": {
             "colorbar": {
              "outlinewidth": 0,
              "ticks": ""
             }
            },
            "type": "scatter3d"
           }
          ],
          "scattercarpet": [
           {
            "marker": {
             "colorbar": {
              "outlinewidth": 0,
              "ticks": ""
             }
            },
            "type": "scattercarpet"
           }
          ],
          "scattergeo": [
           {
            "marker": {
             "colorbar": {
              "outlinewidth": 0,
              "ticks": ""
             }
            },
            "type": "scattergeo"
           }
          ],
          "scattergl": [
           {
            "marker": {
             "colorbar": {
              "outlinewidth": 0,
              "ticks": ""
             }
            },
            "type": "scattergl"
           }
          ],
          "scattermapbox": [
           {
            "marker": {
             "colorbar": {
              "outlinewidth": 0,
              "ticks": ""
             }
            },
            "type": "scattermapbox"
           }
          ],
          "scatterpolar": [
           {
            "marker": {
             "colorbar": {
              "outlinewidth": 0,
              "ticks": ""
             }
            },
            "type": "scatterpolar"
           }
          ],
          "scatterpolargl": [
           {
            "marker": {
             "colorbar": {
              "outlinewidth": 0,
              "ticks": ""
             }
            },
            "type": "scatterpolargl"
           }
          ],
          "scatterternary": [
           {
            "marker": {
             "colorbar": {
              "outlinewidth": 0,
              "ticks": ""
             }
            },
            "type": "scatterternary"
           }
          ],
          "surface": [
           {
            "colorbar": {
             "outlinewidth": 0,
             "ticks": ""
            },
            "colorscale": [
             [
              0,
              "#0d0887"
             ],
             [
              0.1111111111111111,
              "#46039f"
             ],
             [
              0.2222222222222222,
              "#7201a8"
             ],
             [
              0.3333333333333333,
              "#9c179e"
             ],
             [
              0.4444444444444444,
              "#bd3786"
             ],
             [
              0.5555555555555556,
              "#d8576b"
             ],
             [
              0.6666666666666666,
              "#ed7953"
             ],
             [
              0.7777777777777778,
              "#fb9f3a"
             ],
             [
              0.8888888888888888,
              "#fdca26"
             ],
             [
              1,
              "#f0f921"
             ]
            ],
            "type": "surface"
           }
          ],
          "table": [
           {
            "cells": {
             "fill": {
              "color": "#EBF0F8"
             },
             "line": {
              "color": "white"
             }
            },
            "header": {
             "fill": {
              "color": "#C8D4E3"
             },
             "line": {
              "color": "white"
             }
            },
            "type": "table"
           }
          ]
         },
         "layout": {
          "annotationdefaults": {
           "arrowcolor": "#2a3f5f",
           "arrowhead": 0,
           "arrowwidth": 1
          },
          "autotypenumbers": "strict",
          "coloraxis": {
           "colorbar": {
            "outlinewidth": 0,
            "ticks": ""
           }
          },
          "colorscale": {
           "diverging": [
            [
             0,
             "#8e0152"
            ],
            [
             0.1,
             "#c51b7d"
            ],
            [
             0.2,
             "#de77ae"
            ],
            [
             0.3,
             "#f1b6da"
            ],
            [
             0.4,
             "#fde0ef"
            ],
            [
             0.5,
             "#f7f7f7"
            ],
            [
             0.6,
             "#e6f5d0"
            ],
            [
             0.7,
             "#b8e186"
            ],
            [
             0.8,
             "#7fbc41"
            ],
            [
             0.9,
             "#4d9221"
            ],
            [
             1,
             "#276419"
            ]
           ],
           "sequential": [
            [
             0,
             "#0d0887"
            ],
            [
             0.1111111111111111,
             "#46039f"
            ],
            [
             0.2222222222222222,
             "#7201a8"
            ],
            [
             0.3333333333333333,
             "#9c179e"
            ],
            [
             0.4444444444444444,
             "#bd3786"
            ],
            [
             0.5555555555555556,
             "#d8576b"
            ],
            [
             0.6666666666666666,
             "#ed7953"
            ],
            [
             0.7777777777777778,
             "#fb9f3a"
            ],
            [
             0.8888888888888888,
             "#fdca26"
            ],
            [
             1,
             "#f0f921"
            ]
           ],
           "sequentialminus": [
            [
             0,
             "#0d0887"
            ],
            [
             0.1111111111111111,
             "#46039f"
            ],
            [
             0.2222222222222222,
             "#7201a8"
            ],
            [
             0.3333333333333333,
             "#9c179e"
            ],
            [
             0.4444444444444444,
             "#bd3786"
            ],
            [
             0.5555555555555556,
             "#d8576b"
            ],
            [
             0.6666666666666666,
             "#ed7953"
            ],
            [
             0.7777777777777778,
             "#fb9f3a"
            ],
            [
             0.8888888888888888,
             "#fdca26"
            ],
            [
             1,
             "#f0f921"
            ]
           ]
          },
          "colorway": [
           "#636efa",
           "#EF553B",
           "#00cc96",
           "#ab63fa",
           "#FFA15A",
           "#19d3f3",
           "#FF6692",
           "#B6E880",
           "#FF97FF",
           "#FECB52"
          ],
          "font": {
           "color": "#2a3f5f"
          },
          "geo": {
           "bgcolor": "white",
           "lakecolor": "white",
           "landcolor": "#E5ECF6",
           "showlakes": true,
           "showland": true,
           "subunitcolor": "white"
          },
          "hoverlabel": {
           "align": "left"
          },
          "hovermode": "closest",
          "mapbox": {
           "style": "light"
          },
          "paper_bgcolor": "white",
          "plot_bgcolor": "#E5ECF6",
          "polar": {
           "angularaxis": {
            "gridcolor": "white",
            "linecolor": "white",
            "ticks": ""
           },
           "bgcolor": "#E5ECF6",
           "radialaxis": {
            "gridcolor": "white",
            "linecolor": "white",
            "ticks": ""
           }
          },
          "scene": {
           "xaxis": {
            "backgroundcolor": "#E5ECF6",
            "gridcolor": "white",
            "gridwidth": 2,
            "linecolor": "white",
            "showbackground": true,
            "ticks": "",
            "zerolinecolor": "white"
           },
           "yaxis": {
            "backgroundcolor": "#E5ECF6",
            "gridcolor": "white",
            "gridwidth": 2,
            "linecolor": "white",
            "showbackground": true,
            "ticks": "",
            "zerolinecolor": "white"
           },
           "zaxis": {
            "backgroundcolor": "#E5ECF6",
            "gridcolor": "white",
            "gridwidth": 2,
            "linecolor": "white",
            "showbackground": true,
            "ticks": "",
            "zerolinecolor": "white"
           }
          },
          "shapedefaults": {
           "line": {
            "color": "#2a3f5f"
           }
          },
          "ternary": {
           "aaxis": {
            "gridcolor": "white",
            "linecolor": "white",
            "ticks": ""
           },
           "baxis": {
            "gridcolor": "white",
            "linecolor": "white",
            "ticks": ""
           },
           "bgcolor": "#E5ECF6",
           "caxis": {
            "gridcolor": "white",
            "linecolor": "white",
            "ticks": ""
           }
          },
          "title": {
           "x": 0.05
          },
          "xaxis": {
           "automargin": true,
           "gridcolor": "white",
           "linecolor": "white",
           "ticks": "",
           "title": {
            "standoff": 15
           },
           "zerolinecolor": "white",
           "zerolinewidth": 2
          },
          "yaxis": {
           "automargin": true,
           "gridcolor": "white",
           "linecolor": "white",
           "ticks": "",
           "title": {
            "standoff": 15
           },
           "zerolinecolor": "white",
           "zerolinewidth": 2
          }
         }
        },
        "title": {
         "font": {
          "color": "Black",
          "size": 24
         },
         "text": "<b>Динамика номинальной средней заработной платы в РФ 2000-2023</b>",
         "x": 0.5,
         "y": 0.95
        },
        "xaxis": {
         "anchor": "y",
         "domain": [
          0,
          0.94
         ],
         "title": {
          "text": "Год"
         }
        },
        "yaxis": {
         "anchor": "x",
         "domain": [
          0,
          1
         ],
         "title": {
          "text": "Заработная плата (руб.)"
         }
        },
        "yaxis2": {
         "anchor": "x",
         "overlaying": "y",
         "side": "right",
         "title": {
          "text": "Инфляция %"
         }
        }
       }
      }
     },
     "metadata": {},
     "output_type": "display_data"
    }
   ],
   "source": [
    "# График динамики номинальной средней заработной платы\n",
    "\n",
    "salary_fig = make_subplots(specs=[[{'secondary_y': True}]])\n",
    "salary_fig.add_trace(go.Scatter(x=df_salary.index, y=df_salary['Финансовая деятельность'], mode='lines+markers', name='Финансовая деятельность', \n",
    "                                line_color='#269926'), secondary_y=False)\n",
    "salary_fig.add_trace(go.Scatter(x=df_salary.index, y=df_salary['Здравоохранение и социальные услуги'], mode='lines+markers', \n",
    "                                name='Здравоохранение и социальные услуги', line_color='#466FD5'), secondary_y=False)\n",
    "salary_fig.add_trace(go.Scatter(x=df_salary.index, y=df_salary['Гос. управление, военные и социальное страхование'], mode='lines+markers', \n",
    "                                name='Гос. управление, военные и социальное страхование', line_color='#BFBE30'), secondary_y=False)\n",
    "salary_fig.add_trace(go.Scatter(x=df_inflation.index, y=df_inflation['Всего'], mode='lines+markers', \n",
    "                                name='Годовая инфляция %', line_color='#A60000'), secondary_y=True)\n",
    "salary_fig.update_layout(title={'text': '<b>Динамика номинальной средней заработной платы в РФ 2000-2023</b>', 'x': 0.5, 'y':0.95,\n",
    "                                'font':{'size': 24, 'color': 'Black'}}, plot_bgcolor='white', margin={'l': 30, 'r': 0, 't': 50, 'b': 0}, \n",
    "                         xaxis_title='Год', yaxis={'title': 'Заработная плата (руб.)'}, yaxis2={'title': 'Инфляция %'})\n",
    "\n",
    "salary_fig.show()"
   ]
  },
  {
   "cell_type": "markdown",
   "metadata": {},
   "source": [
    "# Динамика среднего уровня заработной платы в России\n",
    "\n",
    "Для сравнительного анализа были выбраны три отрасли трудовой деятельности:\n",
    "1. Финансовая деятельность (банки, брокеры, страховые компании и тп)\n",
    "2. Здравоохранение и социальные услуги (медицинские и социальные работники)\n",
    "3. Государственное управление, военные и социальное страхование (чиновники, военные и сотрудники ФСС)\n",
    "\n",
    "\n",
    "На основании имеющихся данных о динамике среднего уровня заработной платы и инфляции в России с 2000 по 2023 год можно сделать следующие выводы:\n",
    "1. Самый низкий уровень средней заработной платы на протяжении всего времени наблюдения был у работников сферы здравоохранения, а самый высокий у сотрудников финансовых организаций\n",
    "2. Темп роста средней заработной платы у работников в сфере здравоохранения и государственного управления и военных был достаточно равномерный и примерно одинаковый (за исключением резкого роста зарплат чиновников и военных в 2012 году)\n",
    "3. Темп роста заработной платы работников финансовой сферы был существенно выше, особенно с 2016 года и до конца периода наблюдений\n",
    "4. Несмотря на довольно значительные колебания уровня инфляции, в течение всего периода наблюдений четко отслеживается тренд на ее снижение\n"
   ]
  },
  {
   "cell_type": "code",
   "execution_count": 5,
   "metadata": {},
   "outputs": [
    {
     "data": {
      "text/html": [
       "<div>\n",
       "<style scoped>\n",
       "    .dataframe tbody tr th:only-of-type {\n",
       "        vertical-align: middle;\n",
       "    }\n",
       "\n",
       "    .dataframe tbody tr th {\n",
       "        vertical-align: top;\n",
       "    }\n",
       "\n",
       "    .dataframe thead th {\n",
       "        text-align: right;\n",
       "    }\n",
       "</style>\n",
       "<table border=\"1\" class=\"dataframe\">\n",
       "  <thead>\n",
       "    <tr style=\"text-align: right;\">\n",
       "      <th></th>\n",
       "      <th>Финансовая деятельность</th>\n",
       "      <th>Здравоохранение и социальные услуги</th>\n",
       "      <th>Гос. управление, военные и социальное страхование</th>\n",
       "    </tr>\n",
       "  </thead>\n",
       "  <tbody>\n",
       "    <tr>\n",
       "      <th>2000</th>\n",
       "      <td>1.000000</td>\n",
       "      <td>1.000000</td>\n",
       "      <td>1.000000</td>\n",
       "    </tr>\n",
       "    <tr>\n",
       "      <th>2001</th>\n",
       "      <td>1.496177</td>\n",
       "      <td>1.267962</td>\n",
       "      <td>1.182499</td>\n",
       "    </tr>\n",
       "    <tr>\n",
       "      <th>2002</th>\n",
       "      <td>1.304982</td>\n",
       "      <td>1.416986</td>\n",
       "      <td>1.199164</td>\n",
       "    </tr>\n",
       "    <tr>\n",
       "      <th>2003</th>\n",
       "      <td>1.024194</td>\n",
       "      <td>1.015350</td>\n",
       "      <td>1.178875</td>\n",
       "    </tr>\n",
       "    <tr>\n",
       "      <th>2004</th>\n",
       "      <td>0.997225</td>\n",
       "      <td>1.139315</td>\n",
       "      <td>1.022540</td>\n",
       "    </tr>\n",
       "    <tr>\n",
       "      <th>2005</th>\n",
       "      <td>1.174809</td>\n",
       "      <td>1.163086</td>\n",
       "      <td>1.269998</td>\n",
       "    </tr>\n",
       "    <tr>\n",
       "      <th>2006</th>\n",
       "      <td>1.132269</td>\n",
       "      <td>1.255689</td>\n",
       "      <td>1.120749</td>\n",
       "    </tr>\n",
       "    <tr>\n",
       "      <th>2007</th>\n",
       "      <td>1.160822</td>\n",
       "      <td>1.155251</td>\n",
       "      <td>1.163686</td>\n",
       "    </tr>\n",
       "    <tr>\n",
       "      <th>2008</th>\n",
       "      <td>1.081760</td>\n",
       "      <td>1.181402</td>\n",
       "      <td>1.144541</td>\n",
       "    </tr>\n",
       "    <tr>\n",
       "      <th>2009</th>\n",
       "      <td>0.879167</td>\n",
       "      <td>1.002916</td>\n",
       "      <td>0.989758</td>\n",
       "    </tr>\n",
       "    <tr>\n",
       "      <th>2010</th>\n",
       "      <td>1.094831</td>\n",
       "      <td>0.973021</td>\n",
       "      <td>0.960447</td>\n",
       "    </tr>\n",
       "    <tr>\n",
       "      <th>2011</th>\n",
       "      <td>1.025307</td>\n",
       "      <td>1.027993</td>\n",
       "      <td>1.017081</td>\n",
       "    </tr>\n",
       "    <tr>\n",
       "      <th>2012</th>\n",
       "      <td>0.996544</td>\n",
       "      <td>1.115477</td>\n",
       "      <td>1.225282</td>\n",
       "    </tr>\n",
       "    <tr>\n",
       "      <th>2013</th>\n",
       "      <td>1.007655</td>\n",
       "      <td>1.118201</td>\n",
       "      <td>1.067172</td>\n",
       "    </tr>\n",
       "    <tr>\n",
       "      <th>2014</th>\n",
       "      <td>1.018111</td>\n",
       "      <td>1.043092</td>\n",
       "      <td>0.990145</td>\n",
       "    </tr>\n",
       "    <tr>\n",
       "      <th>2015</th>\n",
       "      <td>0.908612</td>\n",
       "      <td>0.927445</td>\n",
       "      <td>0.868983</td>\n",
       "    </tr>\n",
       "    <tr>\n",
       "      <th>2016</th>\n",
       "      <td>1.016446</td>\n",
       "      <td>0.926367</td>\n",
       "      <td>0.911338</td>\n",
       "    </tr>\n",
       "    <tr>\n",
       "      <th>2017</th>\n",
       "      <td>1.003680</td>\n",
       "      <td>1.021457</td>\n",
       "      <td>0.943648</td>\n",
       "    </tr>\n",
       "    <tr>\n",
       "      <th>2018</th>\n",
       "      <td>1.047423</td>\n",
       "      <td>1.226414</td>\n",
       "      <td>1.073727</td>\n",
       "    </tr>\n",
       "    <tr>\n",
       "      <th>2019</th>\n",
       "      <td>1.095631</td>\n",
       "      <td>1.034625</td>\n",
       "      <td>1.023980</td>\n",
       "    </tr>\n",
       "    <tr>\n",
       "      <th>2020</th>\n",
       "      <td>1.056433</td>\n",
       "      <td>1.118145</td>\n",
       "      <td>1.038248</td>\n",
       "    </tr>\n",
       "    <tr>\n",
       "      <th>2021</th>\n",
       "      <td>1.106591</td>\n",
       "      <td>0.974281</td>\n",
       "      <td>1.026581</td>\n",
       "    </tr>\n",
       "    <tr>\n",
       "      <th>2022</th>\n",
       "      <td>1.042143</td>\n",
       "      <td>1.009402</td>\n",
       "      <td>0.999431</td>\n",
       "    </tr>\n",
       "    <tr>\n",
       "      <th>2023</th>\n",
       "      <td>1.034026</td>\n",
       "      <td>0.990254</td>\n",
       "      <td>1.043869</td>\n",
       "    </tr>\n",
       "  </tbody>\n",
       "</table>\n",
       "</div>"
      ],
      "text/plain": [
       "      Финансовая деятельность  Здравоохранение и социальные услуги  \\\n",
       "2000                 1.000000                             1.000000   \n",
       "2001                 1.496177                             1.267962   \n",
       "2002                 1.304982                             1.416986   \n",
       "2003                 1.024194                             1.015350   \n",
       "2004                 0.997225                             1.139315   \n",
       "2005                 1.174809                             1.163086   \n",
       "2006                 1.132269                             1.255689   \n",
       "2007                 1.160822                             1.155251   \n",
       "2008                 1.081760                             1.181402   \n",
       "2009                 0.879167                             1.002916   \n",
       "2010                 1.094831                             0.973021   \n",
       "2011                 1.025307                             1.027993   \n",
       "2012                 0.996544                             1.115477   \n",
       "2013                 1.007655                             1.118201   \n",
       "2014                 1.018111                             1.043092   \n",
       "2015                 0.908612                             0.927445   \n",
       "2016                 1.016446                             0.926367   \n",
       "2017                 1.003680                             1.021457   \n",
       "2018                 1.047423                             1.226414   \n",
       "2019                 1.095631                             1.034625   \n",
       "2020                 1.056433                             1.118145   \n",
       "2021                 1.106591                             0.974281   \n",
       "2022                 1.042143                             1.009402   \n",
       "2023                 1.034026                             0.990254   \n",
       "\n",
       "      Гос. управление, военные и социальное страхование  \n",
       "2000                                           1.000000  \n",
       "2001                                           1.182499  \n",
       "2002                                           1.199164  \n",
       "2003                                           1.178875  \n",
       "2004                                           1.022540  \n",
       "2005                                           1.269998  \n",
       "2006                                           1.120749  \n",
       "2007                                           1.163686  \n",
       "2008                                           1.144541  \n",
       "2009                                           0.989758  \n",
       "2010                                           0.960447  \n",
       "2011                                           1.017081  \n",
       "2012                                           1.225282  \n",
       "2013                                           1.067172  \n",
       "2014                                           0.990145  \n",
       "2015                                           0.868983  \n",
       "2016                                           0.911338  \n",
       "2017                                           0.943648  \n",
       "2018                                           1.073727  \n",
       "2019                                           1.023980  \n",
       "2020                                           1.038248  \n",
       "2021                                           1.026581  \n",
       "2022                                           0.999431  \n",
       "2023                                           1.043869  "
      ]
     },
     "execution_count": 5,
     "metadata": {},
     "output_type": "execute_result"
    }
   ],
   "source": [
    "# Расчет изменений средней ЗП по годам с учетом инфляции\n",
    "df_salary_delta = df_salary.copy() \n",
    "\n",
    "for col in df_salary_delta.columns:\n",
    "    for i in df_salary_delta.index.values.tolist():\n",
    "        if i == 2000: \n",
    "            df_salary_delta.at[i, col] = 1\n",
    "        else:\n",
    "            df_salary_delta.at[i, col] = (df_salary[col].loc[i] / df_salary[col].loc[i - 1]) - (df_inflation['Всего'].loc[i - 1] / 100)\n",
    "\n",
    "df_salary_delta"
   ]
  },
  {
   "cell_type": "code",
   "execution_count": 6,
   "metadata": {},
   "outputs": [
    {
     "data": {
      "application/vnd.plotly.v1+json": {
       "config": {
        "plotlyServerURL": "https://plot.ly"
       },
       "data": [
        {
         "line": {
          "color": "#269926"
         },
         "mode": "lines+markers",
         "name": "Финансовая деятельность",
         "type": "scatter",
         "x": [
          2000,
          2001,
          2002,
          2003,
          2004,
          2005,
          2006,
          2007,
          2008,
          2009,
          2010,
          2011,
          2012,
          2013,
          2014,
          2015,
          2016,
          2017,
          2018,
          2019,
          2020,
          2021,
          2022,
          2023
         ],
         "xaxis": "x",
         "y": [
          1,
          1.4961766752035475,
          1.304982424706253,
          1.0241937097516969,
          0.997224643343701,
          1.1748088381136461,
          1.132269332472678,
          1.1608221118502449,
          1.0817598650221618,
          0.8791674816941235,
          1.094831479554149,
          1.025306544293695,
          0.9965437049305508,
          1.007655233291299,
          1.0181109611103216,
          0.9086124990884562,
          1.0164455998173725,
          1.0036798540273262,
          1.0474231979647604,
          1.0956309542110465,
          1.056433454746797,
          1.1065913383031596,
          1.0421434960563891,
          1.034025888946249
         ],
         "yaxis": "y"
        },
        {
         "line": {
          "color": "#466FD5"
         },
         "mode": "lines+markers",
         "name": "Здравоохранение и социальные услуги",
         "type": "scatter",
         "x": [
          2000,
          2001,
          2002,
          2003,
          2004,
          2005,
          2006,
          2007,
          2008,
          2009,
          2010,
          2011,
          2012,
          2013,
          2014,
          2015,
          2016,
          2017,
          2018,
          2019,
          2020,
          2021,
          2022,
          2023
         ],
         "xaxis": "x",
         "y": [
          1,
          1.2679617490437263,
          1.416985856421246,
          1.015350402699519,
          1.1393147654671547,
          1.1630856895056376,
          1.255689352479003,
          1.1552511817764488,
          1.1814016280413686,
          1.0029157089649463,
          0.9730209521238907,
          1.027992620104555,
          1.1154769585910116,
          1.118200542617256,
          1.0430920879264771,
          0.927444776119403,
          0.9263668370062812,
          1.0214572120234011,
          1.2264142750380702,
          1.0346253054188423,
          1.1181453581806082,
          0.9742808447064523,
          1.009402242449709,
          0.9902540559657595
         ],
         "yaxis": "y"
        },
        {
         "line": {
          "color": "#BFBE30"
         },
         "mode": "lines+markers",
         "name": "Гос. управление, военные и социальное страхование",
         "type": "scatter",
         "x": [
          2000,
          2001,
          2002,
          2003,
          2004,
          2005,
          2006,
          2007,
          2008,
          2009,
          2010,
          2011,
          2012,
          2013,
          2014,
          2015,
          2016,
          2017,
          2018,
          2019,
          2020,
          2021,
          2022,
          2023
         ],
         "xaxis": "x",
         "y": [
          1,
          1.1824990966409794,
          1.1991636475005991,
          1.1788746557957082,
          1.0225397581648297,
          1.2699977666928317,
          1.120748975680978,
          1.1636858272799446,
          1.1445410646117788,
          0.9897584587778356,
          0.9604474123539232,
          1.0170812139740772,
          1.2252819981625265,
          1.067172376433417,
          0.9901445250403598,
          0.8689828078482852,
          0.9113380188949327,
          0.9436478915869849,
          1.0737271190376028,
          1.0239799154864757,
          1.0382481001363,
          1.026580783910746,
          0.9994312009662182,
          1.0438685361198767
         ],
         "yaxis": "y"
        }
       ],
       "layout": {
        "margin": {
         "b": 0,
         "l": 30,
         "r": 0,
         "t": 50
        },
        "plot_bgcolor": "white",
        "template": {
         "data": {
          "bar": [
           {
            "error_x": {
             "color": "#2a3f5f"
            },
            "error_y": {
             "color": "#2a3f5f"
            },
            "marker": {
             "line": {
              "color": "#E5ECF6",
              "width": 0.5
             },
             "pattern": {
              "fillmode": "overlay",
              "size": 10,
              "solidity": 0.2
             }
            },
            "type": "bar"
           }
          ],
          "barpolar": [
           {
            "marker": {
             "line": {
              "color": "#E5ECF6",
              "width": 0.5
             },
             "pattern": {
              "fillmode": "overlay",
              "size": 10,
              "solidity": 0.2
             }
            },
            "type": "barpolar"
           }
          ],
          "carpet": [
           {
            "aaxis": {
             "endlinecolor": "#2a3f5f",
             "gridcolor": "white",
             "linecolor": "white",
             "minorgridcolor": "white",
             "startlinecolor": "#2a3f5f"
            },
            "baxis": {
             "endlinecolor": "#2a3f5f",
             "gridcolor": "white",
             "linecolor": "white",
             "minorgridcolor": "white",
             "startlinecolor": "#2a3f5f"
            },
            "type": "carpet"
           }
          ],
          "choropleth": [
           {
            "colorbar": {
             "outlinewidth": 0,
             "ticks": ""
            },
            "type": "choropleth"
           }
          ],
          "contour": [
           {
            "colorbar": {
             "outlinewidth": 0,
             "ticks": ""
            },
            "colorscale": [
             [
              0,
              "#0d0887"
             ],
             [
              0.1111111111111111,
              "#46039f"
             ],
             [
              0.2222222222222222,
              "#7201a8"
             ],
             [
              0.3333333333333333,
              "#9c179e"
             ],
             [
              0.4444444444444444,
              "#bd3786"
             ],
             [
              0.5555555555555556,
              "#d8576b"
             ],
             [
              0.6666666666666666,
              "#ed7953"
             ],
             [
              0.7777777777777778,
              "#fb9f3a"
             ],
             [
              0.8888888888888888,
              "#fdca26"
             ],
             [
              1,
              "#f0f921"
             ]
            ],
            "type": "contour"
           }
          ],
          "contourcarpet": [
           {
            "colorbar": {
             "outlinewidth": 0,
             "ticks": ""
            },
            "type": "contourcarpet"
           }
          ],
          "heatmap": [
           {
            "colorbar": {
             "outlinewidth": 0,
             "ticks": ""
            },
            "colorscale": [
             [
              0,
              "#0d0887"
             ],
             [
              0.1111111111111111,
              "#46039f"
             ],
             [
              0.2222222222222222,
              "#7201a8"
             ],
             [
              0.3333333333333333,
              "#9c179e"
             ],
             [
              0.4444444444444444,
              "#bd3786"
             ],
             [
              0.5555555555555556,
              "#d8576b"
             ],
             [
              0.6666666666666666,
              "#ed7953"
             ],
             [
              0.7777777777777778,
              "#fb9f3a"
             ],
             [
              0.8888888888888888,
              "#fdca26"
             ],
             [
              1,
              "#f0f921"
             ]
            ],
            "type": "heatmap"
           }
          ],
          "heatmapgl": [
           {
            "colorbar": {
             "outlinewidth": 0,
             "ticks": ""
            },
            "colorscale": [
             [
              0,
              "#0d0887"
             ],
             [
              0.1111111111111111,
              "#46039f"
             ],
             [
              0.2222222222222222,
              "#7201a8"
             ],
             [
              0.3333333333333333,
              "#9c179e"
             ],
             [
              0.4444444444444444,
              "#bd3786"
             ],
             [
              0.5555555555555556,
              "#d8576b"
             ],
             [
              0.6666666666666666,
              "#ed7953"
             ],
             [
              0.7777777777777778,
              "#fb9f3a"
             ],
             [
              0.8888888888888888,
              "#fdca26"
             ],
             [
              1,
              "#f0f921"
             ]
            ],
            "type": "heatmapgl"
           }
          ],
          "histogram": [
           {
            "marker": {
             "pattern": {
              "fillmode": "overlay",
              "size": 10,
              "solidity": 0.2
             }
            },
            "type": "histogram"
           }
          ],
          "histogram2d": [
           {
            "colorbar": {
             "outlinewidth": 0,
             "ticks": ""
            },
            "colorscale": [
             [
              0,
              "#0d0887"
             ],
             [
              0.1111111111111111,
              "#46039f"
             ],
             [
              0.2222222222222222,
              "#7201a8"
             ],
             [
              0.3333333333333333,
              "#9c179e"
             ],
             [
              0.4444444444444444,
              "#bd3786"
             ],
             [
              0.5555555555555556,
              "#d8576b"
             ],
             [
              0.6666666666666666,
              "#ed7953"
             ],
             [
              0.7777777777777778,
              "#fb9f3a"
             ],
             [
              0.8888888888888888,
              "#fdca26"
             ],
             [
              1,
              "#f0f921"
             ]
            ],
            "type": "histogram2d"
           }
          ],
          "histogram2dcontour": [
           {
            "colorbar": {
             "outlinewidth": 0,
             "ticks": ""
            },
            "colorscale": [
             [
              0,
              "#0d0887"
             ],
             [
              0.1111111111111111,
              "#46039f"
             ],
             [
              0.2222222222222222,
              "#7201a8"
             ],
             [
              0.3333333333333333,
              "#9c179e"
             ],
             [
              0.4444444444444444,
              "#bd3786"
             ],
             [
              0.5555555555555556,
              "#d8576b"
             ],
             [
              0.6666666666666666,
              "#ed7953"
             ],
             [
              0.7777777777777778,
              "#fb9f3a"
             ],
             [
              0.8888888888888888,
              "#fdca26"
             ],
             [
              1,
              "#f0f921"
             ]
            ],
            "type": "histogram2dcontour"
           }
          ],
          "mesh3d": [
           {
            "colorbar": {
             "outlinewidth": 0,
             "ticks": ""
            },
            "type": "mesh3d"
           }
          ],
          "parcoords": [
           {
            "line": {
             "colorbar": {
              "outlinewidth": 0,
              "ticks": ""
             }
            },
            "type": "parcoords"
           }
          ],
          "pie": [
           {
            "automargin": true,
            "type": "pie"
           }
          ],
          "scatter": [
           {
            "fillpattern": {
             "fillmode": "overlay",
             "size": 10,
             "solidity": 0.2
            },
            "type": "scatter"
           }
          ],
          "scatter3d": [
           {
            "line": {
             "colorbar": {
              "outlinewidth": 0,
              "ticks": ""
             }
            },
            "marker": {
             "colorbar": {
              "outlinewidth": 0,
              "ticks": ""
             }
            },
            "type": "scatter3d"
           }
          ],
          "scattercarpet": [
           {
            "marker": {
             "colorbar": {
              "outlinewidth": 0,
              "ticks": ""
             }
            },
            "type": "scattercarpet"
           }
          ],
          "scattergeo": [
           {
            "marker": {
             "colorbar": {
              "outlinewidth": 0,
              "ticks": ""
             }
            },
            "type": "scattergeo"
           }
          ],
          "scattergl": [
           {
            "marker": {
             "colorbar": {
              "outlinewidth": 0,
              "ticks": ""
             }
            },
            "type": "scattergl"
           }
          ],
          "scattermapbox": [
           {
            "marker": {
             "colorbar": {
              "outlinewidth": 0,
              "ticks": ""
             }
            },
            "type": "scattermapbox"
           }
          ],
          "scatterpolar": [
           {
            "marker": {
             "colorbar": {
              "outlinewidth": 0,
              "ticks": ""
             }
            },
            "type": "scatterpolar"
           }
          ],
          "scatterpolargl": [
           {
            "marker": {
             "colorbar": {
              "outlinewidth": 0,
              "ticks": ""
             }
            },
            "type": "scatterpolargl"
           }
          ],
          "scatterternary": [
           {
            "marker": {
             "colorbar": {
              "outlinewidth": 0,
              "ticks": ""
             }
            },
            "type": "scatterternary"
           }
          ],
          "surface": [
           {
            "colorbar": {
             "outlinewidth": 0,
             "ticks": ""
            },
            "colorscale": [
             [
              0,
              "#0d0887"
             ],
             [
              0.1111111111111111,
              "#46039f"
             ],
             [
              0.2222222222222222,
              "#7201a8"
             ],
             [
              0.3333333333333333,
              "#9c179e"
             ],
             [
              0.4444444444444444,
              "#bd3786"
             ],
             [
              0.5555555555555556,
              "#d8576b"
             ],
             [
              0.6666666666666666,
              "#ed7953"
             ],
             [
              0.7777777777777778,
              "#fb9f3a"
             ],
             [
              0.8888888888888888,
              "#fdca26"
             ],
             [
              1,
              "#f0f921"
             ]
            ],
            "type": "surface"
           }
          ],
          "table": [
           {
            "cells": {
             "fill": {
              "color": "#EBF0F8"
             },
             "line": {
              "color": "white"
             }
            },
            "header": {
             "fill": {
              "color": "#C8D4E3"
             },
             "line": {
              "color": "white"
             }
            },
            "type": "table"
           }
          ]
         },
         "layout": {
          "annotationdefaults": {
           "arrowcolor": "#2a3f5f",
           "arrowhead": 0,
           "arrowwidth": 1
          },
          "autotypenumbers": "strict",
          "coloraxis": {
           "colorbar": {
            "outlinewidth": 0,
            "ticks": ""
           }
          },
          "colorscale": {
           "diverging": [
            [
             0,
             "#8e0152"
            ],
            [
             0.1,
             "#c51b7d"
            ],
            [
             0.2,
             "#de77ae"
            ],
            [
             0.3,
             "#f1b6da"
            ],
            [
             0.4,
             "#fde0ef"
            ],
            [
             0.5,
             "#f7f7f7"
            ],
            [
             0.6,
             "#e6f5d0"
            ],
            [
             0.7,
             "#b8e186"
            ],
            [
             0.8,
             "#7fbc41"
            ],
            [
             0.9,
             "#4d9221"
            ],
            [
             1,
             "#276419"
            ]
           ],
           "sequential": [
            [
             0,
             "#0d0887"
            ],
            [
             0.1111111111111111,
             "#46039f"
            ],
            [
             0.2222222222222222,
             "#7201a8"
            ],
            [
             0.3333333333333333,
             "#9c179e"
            ],
            [
             0.4444444444444444,
             "#bd3786"
            ],
            [
             0.5555555555555556,
             "#d8576b"
            ],
            [
             0.6666666666666666,
             "#ed7953"
            ],
            [
             0.7777777777777778,
             "#fb9f3a"
            ],
            [
             0.8888888888888888,
             "#fdca26"
            ],
            [
             1,
             "#f0f921"
            ]
           ],
           "sequentialminus": [
            [
             0,
             "#0d0887"
            ],
            [
             0.1111111111111111,
             "#46039f"
            ],
            [
             0.2222222222222222,
             "#7201a8"
            ],
            [
             0.3333333333333333,
             "#9c179e"
            ],
            [
             0.4444444444444444,
             "#bd3786"
            ],
            [
             0.5555555555555556,
             "#d8576b"
            ],
            [
             0.6666666666666666,
             "#ed7953"
            ],
            [
             0.7777777777777778,
             "#fb9f3a"
            ],
            [
             0.8888888888888888,
             "#fdca26"
            ],
            [
             1,
             "#f0f921"
            ]
           ]
          },
          "colorway": [
           "#636efa",
           "#EF553B",
           "#00cc96",
           "#ab63fa",
           "#FFA15A",
           "#19d3f3",
           "#FF6692",
           "#B6E880",
           "#FF97FF",
           "#FECB52"
          ],
          "font": {
           "color": "#2a3f5f"
          },
          "geo": {
           "bgcolor": "white",
           "lakecolor": "white",
           "landcolor": "#E5ECF6",
           "showlakes": true,
           "showland": true,
           "subunitcolor": "white"
          },
          "hoverlabel": {
           "align": "left"
          },
          "hovermode": "closest",
          "mapbox": {
           "style": "light"
          },
          "paper_bgcolor": "white",
          "plot_bgcolor": "#E5ECF6",
          "polar": {
           "angularaxis": {
            "gridcolor": "white",
            "linecolor": "white",
            "ticks": ""
           },
           "bgcolor": "#E5ECF6",
           "radialaxis": {
            "gridcolor": "white",
            "linecolor": "white",
            "ticks": ""
           }
          },
          "scene": {
           "xaxis": {
            "backgroundcolor": "#E5ECF6",
            "gridcolor": "white",
            "gridwidth": 2,
            "linecolor": "white",
            "showbackground": true,
            "ticks": "",
            "zerolinecolor": "white"
           },
           "yaxis": {
            "backgroundcolor": "#E5ECF6",
            "gridcolor": "white",
            "gridwidth": 2,
            "linecolor": "white",
            "showbackground": true,
            "ticks": "",
            "zerolinecolor": "white"
           },
           "zaxis": {
            "backgroundcolor": "#E5ECF6",
            "gridcolor": "white",
            "gridwidth": 2,
            "linecolor": "white",
            "showbackground": true,
            "ticks": "",
            "zerolinecolor": "white"
           }
          },
          "shapedefaults": {
           "line": {
            "color": "#2a3f5f"
           }
          },
          "ternary": {
           "aaxis": {
            "gridcolor": "white",
            "linecolor": "white",
            "ticks": ""
           },
           "baxis": {
            "gridcolor": "white",
            "linecolor": "white",
            "ticks": ""
           },
           "bgcolor": "#E5ECF6",
           "caxis": {
            "gridcolor": "white",
            "linecolor": "white",
            "ticks": ""
           }
          },
          "title": {
           "x": 0.05
          },
          "xaxis": {
           "automargin": true,
           "gridcolor": "white",
           "linecolor": "white",
           "ticks": "",
           "title": {
            "standoff": 15
           },
           "zerolinecolor": "white",
           "zerolinewidth": 2
          },
          "yaxis": {
           "automargin": true,
           "gridcolor": "white",
           "linecolor": "white",
           "ticks": "",
           "title": {
            "standoff": 15
           },
           "zerolinecolor": "white",
           "zerolinewidth": 2
          }
         }
        },
        "title": {
         "font": {
          "color": "Black",
          "size": 24
         },
         "text": "<b>Динамика изменений средней заработной платы в РФ 2000-2023 с учетом инфляции</b>",
         "x": 0.5,
         "y": 0.95
        },
        "xaxis": {
         "anchor": "y",
         "domain": [
          0,
          0.94
         ],
         "title": {
          "text": "Год"
         }
        },
        "yaxis": {
         "anchor": "x",
         "domain": [
          0,
          1
         ],
         "title": {
          "text": "Изменение ЗП относительно предыдущего года"
         }
        },
        "yaxis2": {
         "anchor": "x",
         "overlaying": "y",
         "side": "right"
        }
       }
      }
     },
     "metadata": {},
     "output_type": "display_data"
    }
   ],
   "source": [
    "# График динамики изменения средней заработной платы с учетом инфляции\n",
    "salary_delta_fig = make_subplots(specs=[[{'secondary_y': True}]])\n",
    "salary_delta_fig.add_trace(go.Scatter(x=df_salary_delta.index, y=df_salary_delta['Финансовая деятельность'], mode='lines+markers', \n",
    "                                      name='Финансовая деятельность', line_color='#269926'), \n",
    "                     secondary_y=False)\n",
    "salary_delta_fig.add_trace(go.Scatter(x=df_salary_delta.index, y=df_salary_delta['Здравоохранение и социальные услуги'], mode='lines+markers', \n",
    "                                name='Здравоохранение и социальные услуги', line_color='#466FD5'), secondary_y=False)\n",
    "salary_delta_fig.add_trace(go.Scatter(x=df_salary_delta.index, y=df_salary_delta['Гос. управление, военные и социальное страхование'], mode='lines+markers', \n",
    "                                name='Гос. управление, военные и социальное страхование', line_color='#BFBE30'), secondary_y=False)\n",
    "salary_delta_fig.update_layout(title={'text': '<b>Динамика изменений средней заработной платы в РФ 2000-2023 с учетом инфляции</b>', 'x': 0.5, 'y':0.95,\n",
    "                                'font':{'size': 24, 'color': 'Black'}}, plot_bgcolor='white', margin={'l': 30, 'r': 0, 't': 50, 'b': 0}, \n",
    "                         xaxis_title='Год', yaxis={'title': 'Изменение ЗП относительно предыдущего года'})\n",
    "\n",
    "salary_delta_fig.show()"
   ]
  },
  {
   "cell_type": "code",
   "execution_count": 7,
   "metadata": {},
   "outputs": [
    {
     "data": {
      "text/html": [
       "<div>\n",
       "<style scoped>\n",
       "    .dataframe tbody tr th:only-of-type {\n",
       "        vertical-align: middle;\n",
       "    }\n",
       "\n",
       "    .dataframe tbody tr th {\n",
       "        vertical-align: top;\n",
       "    }\n",
       "\n",
       "    .dataframe thead th {\n",
       "        text-align: right;\n",
       "    }\n",
       "</style>\n",
       "<table border=\"1\" class=\"dataframe\">\n",
       "  <thead>\n",
       "    <tr style=\"text-align: right;\">\n",
       "      <th></th>\n",
       "      <th>Финансовая деятельность</th>\n",
       "      <th>Здравоохранение и социальные услуги</th>\n",
       "      <th>Гос. управление, военные и социальное страхование</th>\n",
       "    </tr>\n",
       "  </thead>\n",
       "  <tbody>\n",
       "    <tr>\n",
       "      <th>2000</th>\n",
       "      <td>5232.20000</td>\n",
       "      <td>1333.30000</td>\n",
       "      <td>2712.10000</td>\n",
       "    </tr>\n",
       "    <tr>\n",
       "      <th>2001</th>\n",
       "      <td>7828.29560</td>\n",
       "      <td>1690.57340</td>\n",
       "      <td>3207.05580</td>\n",
       "    </tr>\n",
       "    <tr>\n",
       "      <th>2002</th>\n",
       "      <td>11595.02984</td>\n",
       "      <td>2777.15058</td>\n",
       "      <td>4502.73958</td>\n",
       "    </tr>\n",
       "    <tr>\n",
       "      <th>2003</th>\n",
       "      <td>13566.36746</td>\n",
       "      <td>3189.52022</td>\n",
       "      <td>6130.61976</td>\n",
       "    </tr>\n",
       "    <tr>\n",
       "      <th>2004</th>\n",
       "      <td>15518.01212</td>\n",
       "      <td>4172.85426</td>\n",
       "      <td>7069.63538</td>\n",
       "    </tr>\n",
       "    <tr>\n",
       "      <th>2005</th>\n",
       "      <td>20422.64188</td>\n",
       "      <td>5364.15120</td>\n",
       "      <td>10031.20436</td>\n",
       "    </tr>\n",
       "    <tr>\n",
       "      <th>2006</th>\n",
       "      <td>25434.73215</td>\n",
       "      <td>7415.59904</td>\n",
       "      <td>12281.72765</td>\n",
       "    </tr>\n",
       "    <tr>\n",
       "      <th>2007</th>\n",
       "      <td>32370.10500</td>\n",
       "      <td>9311.20900</td>\n",
       "      <td>15683.34300</td>\n",
       "    </tr>\n",
       "    <tr>\n",
       "      <th>2008</th>\n",
       "      <td>37731.56774</td>\n",
       "      <td>11857.25558</td>\n",
       "      <td>19338.50919</td>\n",
       "    </tr>\n",
       "    <tr>\n",
       "      <th>2009</th>\n",
       "      <td>36812.32496</td>\n",
       "      <td>13086.64592</td>\n",
       "      <td>21125.50352</td>\n",
       "    </tr>\n",
       "    <tr>\n",
       "      <th>2010</th>\n",
       "      <td>46391.18480</td>\n",
       "      <td>14419.68400</td>\n",
       "      <td>23012.32000</td>\n",
       "    </tr>\n",
       "    <tr>\n",
       "      <th>2011</th>\n",
       "      <td>51388.36400</td>\n",
       "      <td>16163.95036</td>\n",
       "      <td>25549.89376</td>\n",
       "    </tr>\n",
       "    <tr>\n",
       "      <th>2012</th>\n",
       "      <td>55596.07710</td>\n",
       "      <td>19570.48550</td>\n",
       "      <td>34008.31450</td>\n",
       "    </tr>\n",
       "    <tr>\n",
       "      <th>2013</th>\n",
       "      <td>59450.85264</td>\n",
       "      <td>23080.44194</td>\n",
       "      <td>38099.54788</td>\n",
       "    </tr>\n",
       "    <tr>\n",
       "      <th>2014</th>\n",
       "      <td>64480.02150</td>\n",
       "      <td>25491.71030</td>\n",
       "      <td>40050.05885</td>\n",
       "    </tr>\n",
       "    <tr>\n",
       "      <th>2015</th>\n",
       "      <td>62299.01600</td>\n",
       "      <td>25104.07520</td>\n",
       "      <td>37069.93760</td>\n",
       "    </tr>\n",
       "    <tr>\n",
       "      <th>2016</th>\n",
       "      <td>71240.63920</td>\n",
       "      <td>26104.09110</td>\n",
       "      <td>38199.64440</td>\n",
       "    </tr>\n",
       "    <tr>\n",
       "      <th>2017</th>\n",
       "      <td>80584.45180</td>\n",
       "      <td>30380.18040</td>\n",
       "      <td>41153.42820</td>\n",
       "    </tr>\n",
       "    <tr>\n",
       "      <th>2018</th>\n",
       "      <td>88930.41920</td>\n",
       "      <td>39221.09644</td>\n",
       "      <td>46706.80756</td>\n",
       "    </tr>\n",
       "    <tr>\n",
       "      <th>2019</th>\n",
       "      <td>99779.11100</td>\n",
       "      <td>41412.94710</td>\n",
       "      <td>48949.31190</td>\n",
       "    </tr>\n",
       "    <tr>\n",
       "      <th>2020</th>\n",
       "      <td>109518.13210</td>\n",
       "      <td>48216.77595</td>\n",
       "      <td>52940.78975</td>\n",
       "    </tr>\n",
       "    <tr>\n",
       "      <th>2021</th>\n",
       "      <td>124690.71200</td>\n",
       "      <td>48258.07880</td>\n",
       "      <td>55944.54640</td>\n",
       "    </tr>\n",
       "    <tr>\n",
       "      <th>2022</th>\n",
       "      <td>135711.36513</td>\n",
       "      <td>51166.70061</td>\n",
       "      <td>58586.95683</td>\n",
       "    </tr>\n",
       "    <tr>\n",
       "      <th>2023</th>\n",
       "      <td>151626.55768</td>\n",
       "      <td>54879.48368</td>\n",
       "      <td>66291.08016</td>\n",
       "    </tr>\n",
       "  </tbody>\n",
       "</table>\n",
       "</div>"
      ],
      "text/plain": [
       "      Финансовая деятельность  Здравоохранение и социальные услуги  \\\n",
       "2000               5232.20000                           1333.30000   \n",
       "2001               7828.29560                           1690.57340   \n",
       "2002              11595.02984                           2777.15058   \n",
       "2003              13566.36746                           3189.52022   \n",
       "2004              15518.01212                           4172.85426   \n",
       "2005              20422.64188                           5364.15120   \n",
       "2006              25434.73215                           7415.59904   \n",
       "2007              32370.10500                           9311.20900   \n",
       "2008              37731.56774                          11857.25558   \n",
       "2009              36812.32496                          13086.64592   \n",
       "2010              46391.18480                          14419.68400   \n",
       "2011              51388.36400                          16163.95036   \n",
       "2012              55596.07710                          19570.48550   \n",
       "2013              59450.85264                          23080.44194   \n",
       "2014              64480.02150                          25491.71030   \n",
       "2015              62299.01600                          25104.07520   \n",
       "2016              71240.63920                          26104.09110   \n",
       "2017              80584.45180                          30380.18040   \n",
       "2018              88930.41920                          39221.09644   \n",
       "2019              99779.11100                          41412.94710   \n",
       "2020             109518.13210                          48216.77595   \n",
       "2021             124690.71200                          48258.07880   \n",
       "2022             135711.36513                          51166.70061   \n",
       "2023             151626.55768                          54879.48368   \n",
       "\n",
       "      Гос. управление, военные и социальное страхование  \n",
       "2000                                         2712.10000  \n",
       "2001                                         3207.05580  \n",
       "2002                                         4502.73958  \n",
       "2003                                         6130.61976  \n",
       "2004                                         7069.63538  \n",
       "2005                                        10031.20436  \n",
       "2006                                        12281.72765  \n",
       "2007                                        15683.34300  \n",
       "2008                                        19338.50919  \n",
       "2009                                        21125.50352  \n",
       "2010                                        23012.32000  \n",
       "2011                                        25549.89376  \n",
       "2012                                        34008.31450  \n",
       "2013                                        38099.54788  \n",
       "2014                                        40050.05885  \n",
       "2015                                        37069.93760  \n",
       "2016                                        38199.64440  \n",
       "2017                                        41153.42820  \n",
       "2018                                        46706.80756  \n",
       "2019                                        48949.31190  \n",
       "2020                                        52940.78975  \n",
       "2021                                        55944.54640  \n",
       "2022                                        58586.95683  \n",
       "2023                                        66291.08016  "
      ]
     },
     "execution_count": 7,
     "metadata": {},
     "output_type": "execute_result"
    }
   ],
   "source": [
    "# Расчет реальной средней заработной платы в деньгах 2000 года\n",
    "\n",
    "df_real_salary = df_salary.copy()\n",
    "for col in df_real_salary.columns:\n",
    "    for i in df_real_salary.index.values.tolist():\n",
    "        if i == 2000: continue\n",
    "        df_real_salary.at[i, col] = df_salary[col].loc[i - 1] * df_salary_delta[col].loc[i]\n",
    "\n",
    "df_real_salary"
   ]
  },
  {
   "cell_type": "code",
   "execution_count": 8,
   "metadata": {},
   "outputs": [
    {
     "data": {
      "application/vnd.plotly.v1+json": {
       "config": {
        "plotlyServerURL": "https://plot.ly"
       },
       "data": [
        {
         "mode": "lines+markers",
         "name": "Финансовая деятельность",
         "type": "scatter",
         "x": [
          2000,
          2001,
          2002,
          2003,
          2004,
          2005,
          2006,
          2007,
          2008,
          2009,
          2010,
          2011,
          2012,
          2013,
          2014,
          2015,
          2016,
          2017,
          2018,
          2019,
          2020,
          2021,
          2022,
          2023
         ],
         "xaxis": "x",
         "y": [
          5232.2,
          7828.2956,
          11595.02984,
          13566.367460000001,
          15518.012120000001,
          20422.64188,
          25434.732150000003,
          32370.105000000003,
          37731.567740000006,
          36812.324960000005,
          46391.1848,
          51388.363999999994,
          55596.0771,
          59450.85264,
          64480.0215,
          62299.016,
          71240.6392,
          80584.4518,
          88930.41920000002,
          99779.111,
          109518.13210000002,
          124690.71200000003,
          135711.36513,
          151626.55768000003
         ],
         "yaxis": "y"
        },
        {
         "mode": "lines+markers",
         "name": "Здравоохранение и социальные услуги",
         "type": "scatter",
         "x": [
          2000,
          2001,
          2002,
          2003,
          2004,
          2005,
          2006,
          2007,
          2008,
          2009,
          2010,
          2011,
          2012,
          2013,
          2014,
          2015,
          2016,
          2017,
          2018,
          2019,
          2020,
          2021,
          2022,
          2023
         ],
         "xaxis": "x",
         "y": [
          1333.3,
          1690.5734000000002,
          2777.1505800000004,
          3189.5202199999994,
          4172.854260000001,
          5364.151200000001,
          7415.59904,
          9311.208999999999,
          11857.255580000001,
          13086.645919999999,
          14419.684,
          16163.950360000003,
          19570.485500000003,
          23080.441939999997,
          25491.710300000002,
          25104.0752,
          26104.091099999998,
          30380.180399999997,
          39221.096439999994,
          41412.947100000005,
          48216.77595,
          48258.078799999996,
          51166.70061,
          54879.483680000005
         ],
         "yaxis": "y"
        },
        {
         "mode": "lines+markers",
         "name": "Гос. управление, военные и социальное страхование",
         "type": "scatter",
         "x": [
          2000,
          2001,
          2002,
          2003,
          2004,
          2005,
          2006,
          2007,
          2008,
          2009,
          2010,
          2011,
          2012,
          2013,
          2014,
          2015,
          2016,
          2017,
          2018,
          2019,
          2020,
          2021,
          2022,
          2023
         ],
         "xaxis": "x",
         "y": [
          2712.1,
          3207.0558,
          4502.7395799999995,
          6130.6197600000005,
          7069.63538,
          10031.204360000002,
          12281.727649999999,
          15683.342999999997,
          19338.509189999997,
          21125.50352,
          23012.32,
          25549.89376,
          34008.3145,
          38099.54787999999,
          40050.058849999994,
          37069.9376,
          38199.6444,
          41153.4282,
          46706.80756000001,
          48949.3119,
          52940.78975,
          55944.54640000001,
          58586.95683,
          66291.08016
         ],
         "yaxis": "y"
        }
       ],
       "layout": {
        "margin": {
         "b": 0,
         "l": 30,
         "r": 0,
         "t": 50
        },
        "plot_bgcolor": "white",
        "template": {
         "data": {
          "bar": [
           {
            "error_x": {
             "color": "#2a3f5f"
            },
            "error_y": {
             "color": "#2a3f5f"
            },
            "marker": {
             "line": {
              "color": "#E5ECF6",
              "width": 0.5
             },
             "pattern": {
              "fillmode": "overlay",
              "size": 10,
              "solidity": 0.2
             }
            },
            "type": "bar"
           }
          ],
          "barpolar": [
           {
            "marker": {
             "line": {
              "color": "#E5ECF6",
              "width": 0.5
             },
             "pattern": {
              "fillmode": "overlay",
              "size": 10,
              "solidity": 0.2
             }
            },
            "type": "barpolar"
           }
          ],
          "carpet": [
           {
            "aaxis": {
             "endlinecolor": "#2a3f5f",
             "gridcolor": "white",
             "linecolor": "white",
             "minorgridcolor": "white",
             "startlinecolor": "#2a3f5f"
            },
            "baxis": {
             "endlinecolor": "#2a3f5f",
             "gridcolor": "white",
             "linecolor": "white",
             "minorgridcolor": "white",
             "startlinecolor": "#2a3f5f"
            },
            "type": "carpet"
           }
          ],
          "choropleth": [
           {
            "colorbar": {
             "outlinewidth": 0,
             "ticks": ""
            },
            "type": "choropleth"
           }
          ],
          "contour": [
           {
            "colorbar": {
             "outlinewidth": 0,
             "ticks": ""
            },
            "colorscale": [
             [
              0,
              "#0d0887"
             ],
             [
              0.1111111111111111,
              "#46039f"
             ],
             [
              0.2222222222222222,
              "#7201a8"
             ],
             [
              0.3333333333333333,
              "#9c179e"
             ],
             [
              0.4444444444444444,
              "#bd3786"
             ],
             [
              0.5555555555555556,
              "#d8576b"
             ],
             [
              0.6666666666666666,
              "#ed7953"
             ],
             [
              0.7777777777777778,
              "#fb9f3a"
             ],
             [
              0.8888888888888888,
              "#fdca26"
             ],
             [
              1,
              "#f0f921"
             ]
            ],
            "type": "contour"
           }
          ],
          "contourcarpet": [
           {
            "colorbar": {
             "outlinewidth": 0,
             "ticks": ""
            },
            "type": "contourcarpet"
           }
          ],
          "heatmap": [
           {
            "colorbar": {
             "outlinewidth": 0,
             "ticks": ""
            },
            "colorscale": [
             [
              0,
              "#0d0887"
             ],
             [
              0.1111111111111111,
              "#46039f"
             ],
             [
              0.2222222222222222,
              "#7201a8"
             ],
             [
              0.3333333333333333,
              "#9c179e"
             ],
             [
              0.4444444444444444,
              "#bd3786"
             ],
             [
              0.5555555555555556,
              "#d8576b"
             ],
             [
              0.6666666666666666,
              "#ed7953"
             ],
             [
              0.7777777777777778,
              "#fb9f3a"
             ],
             [
              0.8888888888888888,
              "#fdca26"
             ],
             [
              1,
              "#f0f921"
             ]
            ],
            "type": "heatmap"
           }
          ],
          "heatmapgl": [
           {
            "colorbar": {
             "outlinewidth": 0,
             "ticks": ""
            },
            "colorscale": [
             [
              0,
              "#0d0887"
             ],
             [
              0.1111111111111111,
              "#46039f"
             ],
             [
              0.2222222222222222,
              "#7201a8"
             ],
             [
              0.3333333333333333,
              "#9c179e"
             ],
             [
              0.4444444444444444,
              "#bd3786"
             ],
             [
              0.5555555555555556,
              "#d8576b"
             ],
             [
              0.6666666666666666,
              "#ed7953"
             ],
             [
              0.7777777777777778,
              "#fb9f3a"
             ],
             [
              0.8888888888888888,
              "#fdca26"
             ],
             [
              1,
              "#f0f921"
             ]
            ],
            "type": "heatmapgl"
           }
          ],
          "histogram": [
           {
            "marker": {
             "pattern": {
              "fillmode": "overlay",
              "size": 10,
              "solidity": 0.2
             }
            },
            "type": "histogram"
           }
          ],
          "histogram2d": [
           {
            "colorbar": {
             "outlinewidth": 0,
             "ticks": ""
            },
            "colorscale": [
             [
              0,
              "#0d0887"
             ],
             [
              0.1111111111111111,
              "#46039f"
             ],
             [
              0.2222222222222222,
              "#7201a8"
             ],
             [
              0.3333333333333333,
              "#9c179e"
             ],
             [
              0.4444444444444444,
              "#bd3786"
             ],
             [
              0.5555555555555556,
              "#d8576b"
             ],
             [
              0.6666666666666666,
              "#ed7953"
             ],
             [
              0.7777777777777778,
              "#fb9f3a"
             ],
             [
              0.8888888888888888,
              "#fdca26"
             ],
             [
              1,
              "#f0f921"
             ]
            ],
            "type": "histogram2d"
           }
          ],
          "histogram2dcontour": [
           {
            "colorbar": {
             "outlinewidth": 0,
             "ticks": ""
            },
            "colorscale": [
             [
              0,
              "#0d0887"
             ],
             [
              0.1111111111111111,
              "#46039f"
             ],
             [
              0.2222222222222222,
              "#7201a8"
             ],
             [
              0.3333333333333333,
              "#9c179e"
             ],
             [
              0.4444444444444444,
              "#bd3786"
             ],
             [
              0.5555555555555556,
              "#d8576b"
             ],
             [
              0.6666666666666666,
              "#ed7953"
             ],
             [
              0.7777777777777778,
              "#fb9f3a"
             ],
             [
              0.8888888888888888,
              "#fdca26"
             ],
             [
              1,
              "#f0f921"
             ]
            ],
            "type": "histogram2dcontour"
           }
          ],
          "mesh3d": [
           {
            "colorbar": {
             "outlinewidth": 0,
             "ticks": ""
            },
            "type": "mesh3d"
           }
          ],
          "parcoords": [
           {
            "line": {
             "colorbar": {
              "outlinewidth": 0,
              "ticks": ""
             }
            },
            "type": "parcoords"
           }
          ],
          "pie": [
           {
            "automargin": true,
            "type": "pie"
           }
          ],
          "scatter": [
           {
            "fillpattern": {
             "fillmode": "overlay",
             "size": 10,
             "solidity": 0.2
            },
            "type": "scatter"
           }
          ],
          "scatter3d": [
           {
            "line": {
             "colorbar": {
              "outlinewidth": 0,
              "ticks": ""
             }
            },
            "marker": {
             "colorbar": {
              "outlinewidth": 0,
              "ticks": ""
             }
            },
            "type": "scatter3d"
           }
          ],
          "scattercarpet": [
           {
            "marker": {
             "colorbar": {
              "outlinewidth": 0,
              "ticks": ""
             }
            },
            "type": "scattercarpet"
           }
          ],
          "scattergeo": [
           {
            "marker": {
             "colorbar": {
              "outlinewidth": 0,
              "ticks": ""
             }
            },
            "type": "scattergeo"
           }
          ],
          "scattergl": [
           {
            "marker": {
             "colorbar": {
              "outlinewidth": 0,
              "ticks": ""
             }
            },
            "type": "scattergl"
           }
          ],
          "scattermapbox": [
           {
            "marker": {
             "colorbar": {
              "outlinewidth": 0,
              "ticks": ""
             }
            },
            "type": "scattermapbox"
           }
          ],
          "scatterpolar": [
           {
            "marker": {
             "colorbar": {
              "outlinewidth": 0,
              "ticks": ""
             }
            },
            "type": "scatterpolar"
           }
          ],
          "scatterpolargl": [
           {
            "marker": {
             "colorbar": {
              "outlinewidth": 0,
              "ticks": ""
             }
            },
            "type": "scatterpolargl"
           }
          ],
          "scatterternary": [
           {
            "marker": {
             "colorbar": {
              "outlinewidth": 0,
              "ticks": ""
             }
            },
            "type": "scatterternary"
           }
          ],
          "surface": [
           {
            "colorbar": {
             "outlinewidth": 0,
             "ticks": ""
            },
            "colorscale": [
             [
              0,
              "#0d0887"
             ],
             [
              0.1111111111111111,
              "#46039f"
             ],
             [
              0.2222222222222222,
              "#7201a8"
             ],
             [
              0.3333333333333333,
              "#9c179e"
             ],
             [
              0.4444444444444444,
              "#bd3786"
             ],
             [
              0.5555555555555556,
              "#d8576b"
             ],
             [
              0.6666666666666666,
              "#ed7953"
             ],
             [
              0.7777777777777778,
              "#fb9f3a"
             ],
             [
              0.8888888888888888,
              "#fdca26"
             ],
             [
              1,
              "#f0f921"
             ]
            ],
            "type": "surface"
           }
          ],
          "table": [
           {
            "cells": {
             "fill": {
              "color": "#EBF0F8"
             },
             "line": {
              "color": "white"
             }
            },
            "header": {
             "fill": {
              "color": "#C8D4E3"
             },
             "line": {
              "color": "white"
             }
            },
            "type": "table"
           }
          ]
         },
         "layout": {
          "annotationdefaults": {
           "arrowcolor": "#2a3f5f",
           "arrowhead": 0,
           "arrowwidth": 1
          },
          "autotypenumbers": "strict",
          "coloraxis": {
           "colorbar": {
            "outlinewidth": 0,
            "ticks": ""
           }
          },
          "colorscale": {
           "diverging": [
            [
             0,
             "#8e0152"
            ],
            [
             0.1,
             "#c51b7d"
            ],
            [
             0.2,
             "#de77ae"
            ],
            [
             0.3,
             "#f1b6da"
            ],
            [
             0.4,
             "#fde0ef"
            ],
            [
             0.5,
             "#f7f7f7"
            ],
            [
             0.6,
             "#e6f5d0"
            ],
            [
             0.7,
             "#b8e186"
            ],
            [
             0.8,
             "#7fbc41"
            ],
            [
             0.9,
             "#4d9221"
            ],
            [
             1,
             "#276419"
            ]
           ],
           "sequential": [
            [
             0,
             "#0d0887"
            ],
            [
             0.1111111111111111,
             "#46039f"
            ],
            [
             0.2222222222222222,
             "#7201a8"
            ],
            [
             0.3333333333333333,
             "#9c179e"
            ],
            [
             0.4444444444444444,
             "#bd3786"
            ],
            [
             0.5555555555555556,
             "#d8576b"
            ],
            [
             0.6666666666666666,
             "#ed7953"
            ],
            [
             0.7777777777777778,
             "#fb9f3a"
            ],
            [
             0.8888888888888888,
             "#fdca26"
            ],
            [
             1,
             "#f0f921"
            ]
           ],
           "sequentialminus": [
            [
             0,
             "#0d0887"
            ],
            [
             0.1111111111111111,
             "#46039f"
            ],
            [
             0.2222222222222222,
             "#7201a8"
            ],
            [
             0.3333333333333333,
             "#9c179e"
            ],
            [
             0.4444444444444444,
             "#bd3786"
            ],
            [
             0.5555555555555556,
             "#d8576b"
            ],
            [
             0.6666666666666666,
             "#ed7953"
            ],
            [
             0.7777777777777778,
             "#fb9f3a"
            ],
            [
             0.8888888888888888,
             "#fdca26"
            ],
            [
             1,
             "#f0f921"
            ]
           ]
          },
          "colorway": [
           "#636efa",
           "#EF553B",
           "#00cc96",
           "#ab63fa",
           "#FFA15A",
           "#19d3f3",
           "#FF6692",
           "#B6E880",
           "#FF97FF",
           "#FECB52"
          ],
          "font": {
           "color": "#2a3f5f"
          },
          "geo": {
           "bgcolor": "white",
           "lakecolor": "white",
           "landcolor": "#E5ECF6",
           "showlakes": true,
           "showland": true,
           "subunitcolor": "white"
          },
          "hoverlabel": {
           "align": "left"
          },
          "hovermode": "closest",
          "mapbox": {
           "style": "light"
          },
          "paper_bgcolor": "white",
          "plot_bgcolor": "#E5ECF6",
          "polar": {
           "angularaxis": {
            "gridcolor": "white",
            "linecolor": "white",
            "ticks": ""
           },
           "bgcolor": "#E5ECF6",
           "radialaxis": {
            "gridcolor": "white",
            "linecolor": "white",
            "ticks": ""
           }
          },
          "scene": {
           "xaxis": {
            "backgroundcolor": "#E5ECF6",
            "gridcolor": "white",
            "gridwidth": 2,
            "linecolor": "white",
            "showbackground": true,
            "ticks": "",
            "zerolinecolor": "white"
           },
           "yaxis": {
            "backgroundcolor": "#E5ECF6",
            "gridcolor": "white",
            "gridwidth": 2,
            "linecolor": "white",
            "showbackground": true,
            "ticks": "",
            "zerolinecolor": "white"
           },
           "zaxis": {
            "backgroundcolor": "#E5ECF6",
            "gridcolor": "white",
            "gridwidth": 2,
            "linecolor": "white",
            "showbackground": true,
            "ticks": "",
            "zerolinecolor": "white"
           }
          },
          "shapedefaults": {
           "line": {
            "color": "#2a3f5f"
           }
          },
          "ternary": {
           "aaxis": {
            "gridcolor": "white",
            "linecolor": "white",
            "ticks": ""
           },
           "baxis": {
            "gridcolor": "white",
            "linecolor": "white",
            "ticks": ""
           },
           "bgcolor": "#E5ECF6",
           "caxis": {
            "gridcolor": "white",
            "linecolor": "white",
            "ticks": ""
           }
          },
          "title": {
           "x": 0.05
          },
          "xaxis": {
           "automargin": true,
           "gridcolor": "white",
           "linecolor": "white",
           "ticks": "",
           "title": {
            "standoff": 15
           },
           "zerolinecolor": "white",
           "zerolinewidth": 2
          },
          "yaxis": {
           "automargin": true,
           "gridcolor": "white",
           "linecolor": "white",
           "ticks": "",
           "title": {
            "standoff": 15
           },
           "zerolinecolor": "white",
           "zerolinewidth": 2
          }
         }
        },
        "title": {
         "font": {
          "color": "Black",
          "size": 24
         },
         "text": "<b>Динамика реальной средней заработной платы в РФ 2000-2023</b>",
         "x": 0.5,
         "y": 0.95
        },
        "xaxis": {
         "anchor": "y",
         "domain": [
          0,
          0.94
         ],
         "title": {
          "text": "Год"
         }
        },
        "yaxis": {
         "anchor": "x",
         "domain": [
          0,
          1
         ],
         "title": {
          "text": "Заработная плата (руб.)"
         }
        },
        "yaxis2": {
         "anchor": "x",
         "overlaying": "y",
         "side": "right",
         "title": {
          "text": "Инфляция %"
         }
        }
       }
      }
     },
     "metadata": {},
     "output_type": "display_data"
    }
   ],
   "source": [
    "# График динамики реальной средней заработной платы\n",
    "real_salary_fig = make_subplots(specs=[[{'secondary_y': True}]])\n",
    "real_salary_fig.add_trace(go.Scatter(x=df_real_salary.index, y=df_real_salary['Финансовая деятельность'], mode='lines+markers', name='Финансовая деятельность'), \n",
    "                     secondary_y=False)\n",
    "real_salary_fig.add_trace(go.Scatter(x=df_real_salary.index, y=df_real_salary['Здравоохранение и социальные услуги'], mode='lines+markers', \n",
    "                                name='Здравоохранение и социальные услуги'), secondary_y=False)\n",
    "real_salary_fig.add_trace(go.Scatter(x=df_real_salary.index, y=df_real_salary['Гос. управление, военные и социальное страхование'], mode='lines+markers', \n",
    "                                name='Гос. управление, военные и социальное страхование'), secondary_y=False)\n",
    "real_salary_fig.update_layout(title={'text': '<b>Динамика реальной средней заработной платы в РФ 2000-2023</b>', 'x': 0.5, 'y':0.95,\n",
    "                                'font':{'size': 24, 'color': 'Black'}}, plot_bgcolor='white', margin={'l': 30, 'r': 0, 't': 50, 'b': 0}, \n",
    "                         xaxis_title='Год', yaxis={'title': 'Заработная плата (руб.)'}, yaxis2={'title': 'Инфляция %'}, \n",
    "                        #  legend={'x': 0.93, 'y': 0.5, 'traceorder': 'reversed', 'font': {'family': 'Arial', 'size': 14, 'color': 'Black'}, \n",
    "                        #           'yanchor': 'top', 'xanchor': 'left'}\n",
    "                                  )\n",
    "\n",
    "real_salary_fig.show()"
   ]
  },
  {
   "cell_type": "markdown",
   "metadata": {},
   "source": [
    "# Динамика среднего уровня реальной заработной платы в России\n",
    "\n",
    "Учет инфляции при анализе динамики среднего уровня заработной платы в России с 2000 по 2023 года существенно не изменил общую картину происходящего. Заработные платы государственных служащих росли в течение всего периода изменений, но менее существенно, чем у работников финансовой сферы. \n",
    "Также стоит отметить снижение реально средней заработной платы работников финансовой сферы в 2009 году, что может быть связано с эффектом финансового кризиса 2008 года, и в 20015 году, что может быть связано с эффектом санкций, наложенных на РФ в 2014 году. Однако после 2015 года темп роста зарплат в финансовом секторе стал несопоставимо более высоким, чем в двух других исследуемых сферах труда."
   ]
  }
 ],
 "metadata": {
  "kernelspec": {
   "display_name": "salary_analysis_env",
   "language": "python",
   "name": "python3"
  },
  "language_info": {
   "codemirror_mode": {
    "name": "ipython",
    "version": 3
   },
   "file_extension": ".py",
   "mimetype": "text/x-python",
   "name": "python",
   "nbconvert_exporter": "python",
   "pygments_lexer": "ipython3",
   "version": "3.12.2"
  }
 },
 "nbformat": 4,
 "nbformat_minor": 2
}
