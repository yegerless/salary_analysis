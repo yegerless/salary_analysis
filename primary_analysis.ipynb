{
 "cells": [
  {
   "cell_type": "code",
   "execution_count": 21,
   "metadata": {},
   "outputs": [],
   "source": [
    "import pandas as pd\n",
    "from plotly import express as px"
   ]
  },
  {
   "cell_type": "code",
   "execution_count": 22,
   "metadata": {},
   "outputs": [
    {
     "name": "stdout",
     "output_type": "stream",
     "text": [
      "<class 'pandas.core.frame.DataFrame'>\n",
      "Index: 35 entries, Всего по  экономике to Предоставление прочих коммунальных, социальных и персональных услуг\n",
      "Data columns (total 17 columns):\n",
      " #   Column  Non-Null Count  Dtype  \n",
      "---  ------  --------------  -----  \n",
      " 0   2000    33 non-null     float64\n",
      " 1   2001    33 non-null     float64\n",
      " 2   2002    33 non-null     float64\n",
      " 3   2003    33 non-null     float64\n",
      " 4   2004    33 non-null     float64\n",
      " 5   2005    33 non-null     float64\n",
      " 6   2006    33 non-null     float64\n",
      " 7   2007    33 non-null     float64\n",
      " 8   2008    33 non-null     float64\n",
      " 9   2009    33 non-null     float64\n",
      " 10  2010    33 non-null     float64\n",
      " 11  2011    33 non-null     float64\n",
      " 12  2012    33 non-null     float64\n",
      " 13  2013    33 non-null     float64\n",
      " 14  2014    33 non-null     float64\n",
      " 15  2015    33 non-null     float64\n",
      " 16  2016    33 non-null     float64\n",
      "dtypes: float64(17)\n",
      "memory usage: 4.9+ KB\n"
     ]
    }
   ],
   "source": [
    "df_salary_1 = pd.read_excel(r'./data/salary_data_2000_2023.xlsx', sheet_name=1, header=2, index_col=0, nrows=35)\n",
    "\n",
    "df_salary_1.info()"
   ]
  },
  {
   "cell_type": "code",
   "execution_count": 23,
   "metadata": {},
   "outputs": [
    {
     "name": "stdout",
     "output_type": "stream",
     "text": [
      "<class 'pandas.core.frame.DataFrame'>\n",
      "Index: 53 entries, Всего to деятельность в области культуры, спорта, организации досуга и развлечений\n",
      "Data columns (total 7 columns):\n",
      " #   Column  Non-Null Count  Dtype  \n",
      "---  ------  --------------  -----  \n",
      " 0   2017    50 non-null     float64\n",
      " 1   2018    50 non-null     float64\n",
      " 2   2019    50 non-null     float64\n",
      " 3   2020    50 non-null     float64\n",
      " 4   2021    50 non-null     float64\n",
      " 5   2022    50 non-null     float64\n",
      " 6   2023    50 non-null     float64\n",
      "dtypes: float64(7)\n",
      "memory usage: 3.3+ KB\n"
     ]
    }
   ],
   "source": [
    "df_salary_2 = pd.read_excel(r'./data/salary_data_2000_2023.xlsx', sheet_name=0, header=4, index_col=0, names=[i for i in range(2017, 2024)], nrows=53)\n",
    "\n",
    "df_salary_2.info()"
   ]
  },
  {
   "cell_type": "code",
   "execution_count": null,
   "metadata": {},
   "outputs": [],
   "source": [
    "# Соединяем датафреймы с ЗП"
   ]
  },
  {
   "cell_type": "code",
   "execution_count": 34,
   "metadata": {},
   "outputs": [
    {
     "data": {
      "text/html": [
       "<div>\n",
       "<style scoped>\n",
       "    .dataframe tbody tr th:only-of-type {\n",
       "        vertical-align: middle;\n",
       "    }\n",
       "\n",
       "    .dataframe tbody tr th {\n",
       "        vertical-align: top;\n",
       "    }\n",
       "\n",
       "    .dataframe thead th {\n",
       "        text-align: right;\n",
       "    }\n",
       "</style>\n",
       "<table border=\"1\" class=\"dataframe\">\n",
       "  <thead>\n",
       "    <tr style=\"text-align: right;\">\n",
       "      <th>Год</th>\n",
       "      <th>2024</th>\n",
       "      <th>2023</th>\n",
       "      <th>2022</th>\n",
       "      <th>2021</th>\n",
       "      <th>2020</th>\n",
       "      <th>2019</th>\n",
       "      <th>2018</th>\n",
       "      <th>2017</th>\n",
       "      <th>2016</th>\n",
       "      <th>2015</th>\n",
       "      <th>...</th>\n",
       "      <th>2000</th>\n",
       "      <th>1999</th>\n",
       "      <th>1998</th>\n",
       "      <th>1997</th>\n",
       "      <th>1996</th>\n",
       "      <th>1995</th>\n",
       "      <th>1994</th>\n",
       "      <th>1993</th>\n",
       "      <th>1992</th>\n",
       "      <th>1991</th>\n",
       "    </tr>\n",
       "  </thead>\n",
       "  <tbody>\n",
       "    <tr>\n",
       "      <th>Всего</th>\n",
       "      <td>1.55</td>\n",
       "      <td>7.42</td>\n",
       "      <td>11.92</td>\n",
       "      <td>8.39</td>\n",
       "      <td>4.91</td>\n",
       "      <td>3.05</td>\n",
       "      <td>4.27</td>\n",
       "      <td>2.52</td>\n",
       "      <td>5.38</td>\n",
       "      <td>12.91</td>\n",
       "      <td>...</td>\n",
       "      <td>20.2</td>\n",
       "      <td>36.56</td>\n",
       "      <td>84.44</td>\n",
       "      <td>11.03</td>\n",
       "      <td>21.81</td>\n",
       "      <td>131.33</td>\n",
       "      <td>215.02</td>\n",
       "      <td>839.87</td>\n",
       "      <td>2508.85</td>\n",
       "      <td>160.4</td>\n",
       "    </tr>\n",
       "  </tbody>\n",
       "</table>\n",
       "<p>1 rows × 34 columns</p>\n",
       "</div>"
      ],
      "text/plain": [
       "Год    2024  2023   2022  2021  2020  2019  2018  2017  2016   2015  ...  \\\n",
       "Всего  1.55  7.42  11.92  8.39  4.91  3.05  4.27  2.52  5.38  12.91  ...   \n",
       "\n",
       "Год    2000   1999   1998   1997   1996    1995    1994    1993     1992  \\\n",
       "Всего  20.2  36.56  84.44  11.03  21.81  131.33  215.02  839.87  2508.85   \n",
       "\n",
       "Год     1991  \n",
       "Всего  160.4  \n",
       "\n",
       "[1 rows x 34 columns]"
      ]
     },
     "execution_count": 34,
     "metadata": {},
     "output_type": "execute_result"
    }
   ],
   "source": [
    "df_inflation = pd.read_excel(r'./data/inflation.xlsx', usecols=['Год', 'Всего'], index_col=0).T\n",
    "\n",
    "df_inflation"
   ]
  }
 ],
 "metadata": {
  "kernelspec": {
   "display_name": "salary_analysis_env",
   "language": "python",
   "name": "python3"
  },
  "language_info": {
   "codemirror_mode": {
    "name": "ipython",
    "version": 3
   },
   "file_extension": ".py",
   "mimetype": "text/x-python",
   "name": "python",
   "nbconvert_exporter": "python",
   "pygments_lexer": "ipython3",
   "version": "3.12.2"
  }
 },
 "nbformat": 4,
 "nbformat_minor": 2
}
